{
 "cells": [
  {
   "cell_type": "markdown",
   "metadata": {
    "id": "A9Sr9tPfvzFW"
   },
   "source": [
    "# Online Payment Fraud Detection"
   ]
  },
  {
   "cell_type": "markdown",
   "metadata": {
    "id": "0fZfhhD9vzFZ"
   },
   "source": [
    "### 1.Problem Statement"
   ]
  },
  {
   "cell_type": "raw",
   "metadata": {
    "id": "D6lF2cTyvzFa"
   },
   "source": [
    "66tThe problem statement chosen for this project is to predict fraudulent credit card transactions with the help of machine learning models.\n",
    "\n",
    "In this project, we will analyse customer-level data which has been collected and analysed during a research collaboration of Worldline and the Machine Learning Group.\n",
    "\n",
    "The dataset is taken from the Kaggle Website website and it has a total of 2,84,807 transactions, out of which 492 are fraudulent. Since the dataset is highly imbalanced, so it needs to be handled before model building."
   ]
  },
  {
   "cell_type": "markdown",
   "metadata": {
    "id": "KDvpbUBUvzFa"
   },
   "source": [
    "### 2.Aim Objective"
   ]
  },
  {
   "cell_type": "markdown",
   "metadata": {
    "id": "oIh2phejvzFb"
   },
   "source": [
    "Find the best machine learning algorithm to help them detect fraudulent transactions on their network.Fruadsters usually hack the systems for their benefits.\n",
    "This project will benefit bank identify the best algorithm for the job, identify the best metrics to keep in mind and to also identify further steps they would need to take based on the model selection."
   ]
  },
  {
   "cell_type": "markdown",
   "metadata": {
    "id": "9gYvpYixvzFb"
   },
   "source": [
    "### 3.Business Problem Overview"
   ]
  },
  {
   "cell_type": "raw",
   "metadata": {
    "id": "PDGUt3t2vzFc"
   },
   "source": [
    "For many banks, retaining high profitable customers is the number one business goal. Banking fraud, however, poses a significant threat to this goal for different banks. In terms of substantial financial losses, trust and credibility, this is a concerning issue to both banks and customers alike.\n",
    "\n",
    "It has been estimated by Nilson report that by 2020 the banking frauds would account to $30 billion worldwide. With the rise in digital payment channels, the number of fraudulent transactions is also increasing with new and different ways.\n",
    "\n",
    "In the banking industry, credit card fraud detection using machine learning is not just a trend but a necessity for them to put proactive monitoring and fraud prevention mechanisms in place. Machine learning is helping these institutions to reduce time-consuming manual reviews, costly chargebacks and fees, and denials of legitimate transactions."
   ]
  },
  {
   "cell_type": "code",
   "execution_count": null,
   "metadata": {
    "id": "4pFa06rKvzFc"
   },
   "outputs": [],
   "source": []
  },
  {
   "cell_type": "markdown",
   "metadata": {
    "id": "nlo_jh0UvzFd"
   },
   "source": [
    "### 4.Project Pipeline"
   ]
  },
  {
   "cell_type": "raw",
   "metadata": {
    "id": "Vndx9Qa-vzFf"
   },
   "source": [
    "The project pipeline can be briefly summarized in the following four steps:\n",
    "\n",
    "Data Understanding: Here, we need to load the data and understand the features present in it. This would help us choose the features that we will need for your final model.\n",
    "Exploratory data analytics (EDA): Normally, in this step, we need to perform univariate and bivariate analyses of the data, followed by feature transformations, if necessary. For the current data set, because Gaussian variables are used, we do not need to perform Z-scaling. However, you can check if there is any skewness in the data and try to mitigate it, as it might cause problems during the model-building phase.\n",
    "Train/Test Split: Now we are familiar with the train/test split, which we can perform in order to check the performance of our models with unseen data. Here, for validation, we can use the k-fold cross-validation method. We need to choose an appropriate k value so that the minority class is correctly represented in the test folds.\n",
    "Model-Building/Hyperparameter Tuning: This is the final step at which we can try different models and fine-tune their hyperparameters until we get the desired level of performance on the given dataset. We should try and see if we get a better model by the various sampling techniques.\n",
    "Model Evaluation: We need to evaluate the models using appropriate evaluation metrics. Note that since the data is imbalanced it is is more important to identify which are fraudulent transactions accurately than the non-fraudulent. We need to choose an appropriate evaluation metric which reflects this business goal."
   ]
  },
  {
   "cell_type": "code",
   "execution_count": null,
   "metadata": {
    "id": "kG_7AtkzvzFf"
   },
   "outputs": [],
   "source": []
  },
  {
   "cell_type": "markdown",
   "metadata": {
    "id": "bKrGF0C-vzFf"
   },
   "source": [
    "### 5.Data Defination"
   ]
  },
  {
   "cell_type": "raw",
   "metadata": {
    "id": "zJe7eiRpvzFg"
   },
   "source": [
    "bInput Variables:\n",
    "\n",
    "1) step: represents a unit of time where 1 step equals 1hour\n",
    "\n",
    "2) type: type of online transaction\n",
    "\n",
    "3) amount: the amount of the transaction\n",
    "\n",
    "4) sender: customer starting the transaction\n",
    "\n",
    "5) sender_oldbal: balance before the transaction\n",
    "\n",
    "6) sender_newbal: balance after the transaction\n",
    "\n",
    "7) recipient: recipient of the transaction\n",
    "\n",
    "8) recipient_oldbal: initial balance of recipient before the transaction\n",
    "\n",
    "9) recipient_newbal: the new balance of the recipient after the transaction\n",
    "\n",
    "10) isFraud: fraud transaction(target column)\n",
    "\n",
    "There are total 10 variables."
   ]
  },
  {
   "cell_type": "raw",
   "metadata": {
    "id": "AcriZ7grvzFg"
   },
   "source": [
    "6) Import Packages\n",
    "7) Read Data\n",
    "8) Understand and Prepare the Data\n",
    "            8.1 - Data Types and Dimensions\n",
    "            8.2 - Statistical Summary\n",
    "            8.3 - Data Cleaning \n",
    "            8.4 - Missing Data Treatment\n",
    "            8.5 - Check Unique Values\n",
    "            8.6 - Visualization\n",
    "            8.7 - Correlation\n",
    "            8.8 - Feature Selection\n",
    "            8.9 - Label Encoding\n",
    "            8.10 - Standardization\n",
    "9) Supervised Learning\n",
    "            9.1 - Logistic Regression\n",
    "            9.2 - AdaBoost\n",
    "            9.3 - Naive Bayes\n",
    "            9.4 - KNN\n",
    "            9.5 - Support Vector Machine\n",
    "10) Model Comparision"
   ]
  },
  {
   "cell_type": "markdown",
   "metadata": {
    "id": "xoigCKHpvzFg"
   },
   "source": [
    "### 6.Import package "
   ]
  },
  {
   "cell_type": "code",
   "execution_count": 3,
   "metadata": {
    "id": "L1TAZWewvzFh"
   },
   "outputs": [],
   "source": [
    "import pandas as pd\n",
    "import numpy as np\n",
    "import warnings\n",
    "warnings.filterwarnings(\"ignore\")\n",
    "pd.set_option(\"display.max_columns\",None) \n",
    "\n",
    "## visualize your data\n",
    "import matplotlib.pyplot as plt\n",
    "import seaborn as sns\n"
   ]
  },
  {
   "cell_type": "markdown",
   "metadata": {
    "id": "qNEKB5olvzFh"
   },
   "source": [
    "###  7.Read dataset\n",
    "Read dataset using read_csv function from pandas"
   ]
  },
  {
   "cell_type": "code",
   "execution_count": 4,
   "metadata": {
    "colab": {
     "base_uri": "https://localhost:8080/",
     "height": 206
    },
    "id": "PgBu-joIvzFh",
    "outputId": "ba4abccb-88b5-46af-9a46-5f0423813a57"
   },
   "outputs": [
    {
     "data": {
      "text/html": [
       "<div>\n",
       "<style scoped>\n",
       "    .dataframe tbody tr th:only-of-type {\n",
       "        vertical-align: middle;\n",
       "    }\n",
       "\n",
       "    .dataframe tbody tr th {\n",
       "        vertical-align: top;\n",
       "    }\n",
       "\n",
       "    .dataframe thead th {\n",
       "        text-align: right;\n",
       "    }\n",
       "</style>\n",
       "<table border=\"1\" class=\"dataframe\">\n",
       "  <thead>\n",
       "    <tr style=\"text-align: right;\">\n",
       "      <th></th>\n",
       "      <th>step</th>\n",
       "      <th>type</th>\n",
       "      <th>amount</th>\n",
       "      <th>nameOrig</th>\n",
       "      <th>oldbalanceOrg</th>\n",
       "      <th>newbalanceOrig</th>\n",
       "      <th>nameDest</th>\n",
       "      <th>oldbalanceDest</th>\n",
       "      <th>newbalanceDest</th>\n",
       "      <th>isFraud</th>\n",
       "    </tr>\n",
       "  </thead>\n",
       "  <tbody>\n",
       "    <tr>\n",
       "      <th>0</th>\n",
       "      <td>1</td>\n",
       "      <td>PAYMENT</td>\n",
       "      <td>9839.64</td>\n",
       "      <td>C1231006815</td>\n",
       "      <td>170136.0</td>\n",
       "      <td>160296.36</td>\n",
       "      <td>M1979787155</td>\n",
       "      <td>0.0</td>\n",
       "      <td>0.0</td>\n",
       "      <td>0</td>\n",
       "    </tr>\n",
       "    <tr>\n",
       "      <th>1</th>\n",
       "      <td>1</td>\n",
       "      <td>PAYMENT</td>\n",
       "      <td>1864.28</td>\n",
       "      <td>C1666544295</td>\n",
       "      <td>21249.0</td>\n",
       "      <td>19384.72</td>\n",
       "      <td>M2044282225</td>\n",
       "      <td>0.0</td>\n",
       "      <td>0.0</td>\n",
       "      <td>0</td>\n",
       "    </tr>\n",
       "    <tr>\n",
       "      <th>2</th>\n",
       "      <td>1</td>\n",
       "      <td>TRANSFER</td>\n",
       "      <td>181.00</td>\n",
       "      <td>C1305486145</td>\n",
       "      <td>181.0</td>\n",
       "      <td>0.00</td>\n",
       "      <td>C553264065</td>\n",
       "      <td>0.0</td>\n",
       "      <td>0.0</td>\n",
       "      <td>1</td>\n",
       "    </tr>\n",
       "    <tr>\n",
       "      <th>3</th>\n",
       "      <td>1</td>\n",
       "      <td>CASH_OUT</td>\n",
       "      <td>181.00</td>\n",
       "      <td>C840083671</td>\n",
       "      <td>181.0</td>\n",
       "      <td>0.00</td>\n",
       "      <td>C38997010</td>\n",
       "      <td>21182.0</td>\n",
       "      <td>0.0</td>\n",
       "      <td>1</td>\n",
       "    </tr>\n",
       "    <tr>\n",
       "      <th>4</th>\n",
       "      <td>1</td>\n",
       "      <td>PAYMENT</td>\n",
       "      <td>11668.14</td>\n",
       "      <td>C2048537720</td>\n",
       "      <td>41554.0</td>\n",
       "      <td>29885.86</td>\n",
       "      <td>M1230701703</td>\n",
       "      <td>0.0</td>\n",
       "      <td>0.0</td>\n",
       "      <td>0</td>\n",
       "    </tr>\n",
       "  </tbody>\n",
       "</table>\n",
       "</div>"
      ],
      "text/plain": [
       "   step      type    amount     nameOrig  oldbalanceOrg  newbalanceOrig  \\\n",
       "0     1   PAYMENT   9839.64  C1231006815       170136.0       160296.36   \n",
       "1     1   PAYMENT   1864.28  C1666544295        21249.0        19384.72   \n",
       "2     1  TRANSFER    181.00  C1305486145          181.0            0.00   \n",
       "3     1  CASH_OUT    181.00   C840083671          181.0            0.00   \n",
       "4     1   PAYMENT  11668.14  C2048537720        41554.0        29885.86   \n",
       "\n",
       "      nameDest  oldbalanceDest  newbalanceDest  isFraud  \n",
       "0  M1979787155             0.0             0.0        0  \n",
       "1  M2044282225             0.0             0.0        0  \n",
       "2   C553264065             0.0             0.0        1  \n",
       "3    C38997010         21182.0             0.0        1  \n",
       "4  M1230701703             0.0             0.0        0  "
      ]
     },
     "execution_count": 4,
     "metadata": {},
     "output_type": "execute_result"
    }
   ],
   "source": [
    "dt=pd.read_csv(r'C:\\\\Users\\\\Priyanka Sawant\\\\Desktop\\\\Python\\\\Online Payment Fraud Detection\\\\PS_20174392719_1491204439457_log.csv')\n",
    "dt.head()"
   ]
  },
  {
   "cell_type": "markdown",
   "metadata": {
    "id": "qJbaFxguvzFi"
   },
   "source": [
    "### 8.Understand and Prepare the Data"
   ]
  },
  {
   "cell_type": "code",
   "execution_count": 5,
   "metadata": {
    "colab": {
     "base_uri": "https://localhost:8080/",
     "height": 206
    },
    "id": "xAtRCx-PvzFi",
    "outputId": "3276b823-0e3b-4ff0-f45a-1eddb1159a2e"
   },
   "outputs": [
    {
     "data": {
      "text/html": [
       "<div>\n",
       "<style scoped>\n",
       "    .dataframe tbody tr th:only-of-type {\n",
       "        vertical-align: middle;\n",
       "    }\n",
       "\n",
       "    .dataframe tbody tr th {\n",
       "        vertical-align: top;\n",
       "    }\n",
       "\n",
       "    .dataframe thead th {\n",
       "        text-align: right;\n",
       "    }\n",
       "</style>\n",
       "<table border=\"1\" class=\"dataframe\">\n",
       "  <thead>\n",
       "    <tr style=\"text-align: right;\">\n",
       "      <th></th>\n",
       "      <th>step</th>\n",
       "      <th>type</th>\n",
       "      <th>amount</th>\n",
       "      <th>nameOrig</th>\n",
       "      <th>oldbalanceOrg</th>\n",
       "      <th>newbalanceOrig</th>\n",
       "      <th>nameDest</th>\n",
       "      <th>oldbalanceDest</th>\n",
       "      <th>newbalanceDest</th>\n",
       "      <th>isFraud</th>\n",
       "    </tr>\n",
       "  </thead>\n",
       "  <tbody>\n",
       "    <tr>\n",
       "      <th>0</th>\n",
       "      <td>1</td>\n",
       "      <td>PAYMENT</td>\n",
       "      <td>9839.64</td>\n",
       "      <td>C1231006815</td>\n",
       "      <td>170136.0</td>\n",
       "      <td>160296.36</td>\n",
       "      <td>M1979787155</td>\n",
       "      <td>0.0</td>\n",
       "      <td>0.0</td>\n",
       "      <td>0</td>\n",
       "    </tr>\n",
       "    <tr>\n",
       "      <th>1</th>\n",
       "      <td>1</td>\n",
       "      <td>PAYMENT</td>\n",
       "      <td>1864.28</td>\n",
       "      <td>C1666544295</td>\n",
       "      <td>21249.0</td>\n",
       "      <td>19384.72</td>\n",
       "      <td>M2044282225</td>\n",
       "      <td>0.0</td>\n",
       "      <td>0.0</td>\n",
       "      <td>0</td>\n",
       "    </tr>\n",
       "    <tr>\n",
       "      <th>2</th>\n",
       "      <td>1</td>\n",
       "      <td>TRANSFER</td>\n",
       "      <td>181.00</td>\n",
       "      <td>C1305486145</td>\n",
       "      <td>181.0</td>\n",
       "      <td>0.00</td>\n",
       "      <td>C553264065</td>\n",
       "      <td>0.0</td>\n",
       "      <td>0.0</td>\n",
       "      <td>1</td>\n",
       "    </tr>\n",
       "    <tr>\n",
       "      <th>3</th>\n",
       "      <td>1</td>\n",
       "      <td>CASH_OUT</td>\n",
       "      <td>181.00</td>\n",
       "      <td>C840083671</td>\n",
       "      <td>181.0</td>\n",
       "      <td>0.00</td>\n",
       "      <td>C38997010</td>\n",
       "      <td>21182.0</td>\n",
       "      <td>0.0</td>\n",
       "      <td>1</td>\n",
       "    </tr>\n",
       "    <tr>\n",
       "      <th>4</th>\n",
       "      <td>1</td>\n",
       "      <td>PAYMENT</td>\n",
       "      <td>11668.14</td>\n",
       "      <td>C2048537720</td>\n",
       "      <td>41554.0</td>\n",
       "      <td>29885.86</td>\n",
       "      <td>M1230701703</td>\n",
       "      <td>0.0</td>\n",
       "      <td>0.0</td>\n",
       "      <td>0</td>\n",
       "    </tr>\n",
       "  </tbody>\n",
       "</table>\n",
       "</div>"
      ],
      "text/plain": [
       "   step      type    amount     nameOrig  oldbalanceOrg  newbalanceOrig  \\\n",
       "0     1   PAYMENT   9839.64  C1231006815       170136.0       160296.36   \n",
       "1     1   PAYMENT   1864.28  C1666544295        21249.0        19384.72   \n",
       "2     1  TRANSFER    181.00  C1305486145          181.0            0.00   \n",
       "3     1  CASH_OUT    181.00   C840083671          181.0            0.00   \n",
       "4     1   PAYMENT  11668.14  C2048537720        41554.0        29885.86   \n",
       "\n",
       "      nameDest  oldbalanceDest  newbalanceDest  isFraud  \n",
       "0  M1979787155             0.0             0.0        0  \n",
       "1  M2044282225             0.0             0.0        0  \n",
       "2   C553264065             0.0             0.0        1  \n",
       "3    C38997010         21182.0             0.0        1  \n",
       "4  M1230701703             0.0             0.0        0  "
      ]
     },
     "execution_count": 5,
     "metadata": {},
     "output_type": "execute_result"
    }
   ],
   "source": [
    "data=pd.DataFrame.copy(dt)\n",
    "data.head()"
   ]
  },
  {
   "cell_type": "markdown",
   "metadata": {
    "id": "TiiWks0pvzFj"
   },
   "source": [
    "#### Data Types and Dimensions"
   ]
  },
  {
   "cell_type": "code",
   "execution_count": 6,
   "metadata": {
    "colab": {
     "base_uri": "https://localhost:8080/"
    },
    "id": "iT2sKbk7vzFj",
    "outputId": "a0a4f8ea-8a52-46a6-ee68-bf1412b4067a",
    "scrolled": true
   },
   "outputs": [
    {
     "name": "stdout",
     "output_type": "stream",
     "text": [
      "<class 'pandas.core.frame.DataFrame'>\n",
      "RangeIndex: 1048575 entries, 0 to 1048574\n",
      "Data columns (total 10 columns):\n",
      " #   Column          Non-Null Count    Dtype  \n",
      "---  ------          --------------    -----  \n",
      " 0   step            1048575 non-null  int64  \n",
      " 1   type            1048575 non-null  object \n",
      " 2   amount          1048575 non-null  float64\n",
      " 3   nameOrig        1048575 non-null  object \n",
      " 4   oldbalanceOrg   1048575 non-null  float64\n",
      " 5   newbalanceOrig  1048575 non-null  float64\n",
      " 6   nameDest        1048575 non-null  object \n",
      " 7   oldbalanceDest  1048575 non-null  float64\n",
      " 8   newbalanceDest  1048575 non-null  float64\n",
      " 9   isFraud         1048575 non-null  int64  \n",
      "dtypes: float64(5), int64(2), object(3)\n",
      "memory usage: 80.0+ MB\n"
     ]
    }
   ],
   "source": [
    "# check the data types for variables\n",
    "data.info()"
   ]
  },
  {
   "cell_type": "code",
   "execution_count": 7,
   "metadata": {
    "colab": {
     "base_uri": "https://localhost:8080/"
    },
    "id": "pzb4tJPhvzFj",
    "outputId": "2cc6caac-1f4c-47e2-bc25-8284024ab9fd"
   },
   "outputs": [
    {
     "data": {
      "text/plain": [
       "(1048575, 10)"
      ]
     },
     "execution_count": 7,
     "metadata": {},
     "output_type": "execute_result"
    }
   ],
   "source": [
    "#Get the shape\n",
    "data.shape"
   ]
  },
  {
   "cell_type": "markdown",
   "metadata": {
    "id": "ul3aj84-vzFj"
   },
   "source": [
    "###### We see the dataframe has 10 columns and 1048575 observations"
   ]
  },
  {
   "cell_type": "code",
   "execution_count": 8,
   "metadata": {
    "colab": {
     "base_uri": "https://localhost:8080/",
     "height": 693
    },
    "id": "QXn8xAjYvzFk",
    "outputId": "8ece7ac1-e29e-4333-d19e-cbd3fe5f9f59",
    "scrolled": false
   },
   "outputs": [
    {
     "name": "stdout",
     "output_type": "stream",
     "text": [
      " Number of Fraud Cases: 1142\n",
      " Number of No Fraud Cases: 1047433\n"
     ]
    },
    {
     "data": {
      "text/plain": [
       "Text(0, 0.5, 'Count')"
      ]
     },
     "execution_count": 8,
     "metadata": {},
     "output_type": "execute_result"
    },
    {
     "data": {
      "image/png": "[encoded data removed]",
      "text/plain": [
       "<Figure size 504x504 with 1 Axes>"
      ]
     },
     "metadata": {
      "needs_background": "light"
     },
     "output_type": "display_data"
    }
   ],
   "source": [
    "## number of fraud cases & not fraud cases\n",
    "\n",
    "#count the no of fraud & non fraud record\n",
    "fraud_cases=len(data[data['isFraud']==1])\n",
    "no_fraud_cases=len(data[data['isFraud']==0])    \n",
    "\n",
    "#print the count\n",
    "print(' Number of Fraud Cases:',fraud_cases)\n",
    "print(' Number of No Fraud Cases:',no_fraud_cases)\n",
    "\n",
    "\n",
    "#bar plot\n",
    "plt.figure(figsize=(7,7))   #size of graph\n",
    "plt.title('Ratio of Valid Transactions to Fraudulent Transactions')   #title of graph\n",
    "sns.countplot(x='isFraud', data=data)       #count the fraud transaction & plt the bar chart \n",
    "plt.xlabel('Fraud vs No Fraud')    #plt label of x axis\n",
    "plt.ylabel('Count')   #plt label of y axis"
   ]
  },
  {
   "cell_type": "markdown",
   "metadata": {
    "id": "SDtvMRdPvzFk"
   },
   "source": [
    "#### Statistical Summary\n",
    "Here we take a look at the summary of each attribute. This includes the count, mean, the min and max values as well as some percentiles for numeric variables."
   ]
  },
  {
   "cell_type": "code",
   "execution_count": 9,
   "metadata": {
    "colab": {
     "base_uri": "https://localhost:8080/",
     "height": 300
    },
    "id": "k1vp7_qlvzFk",
    "outputId": "a04c2098-3c59-472b-875c-6e6f05bebc3d",
    "scrolled": true
   },
   "outputs": [
    {
     "data": {
      "text/html": [
       "<div>\n",
       "<style scoped>\n",
       "    .dataframe tbody tr th:only-of-type {\n",
       "        vertical-align: middle;\n",
       "    }\n",
       "\n",
       "    .dataframe tbody tr th {\n",
       "        vertical-align: top;\n",
       "    }\n",
       "\n",
       "    .dataframe thead th {\n",
       "        text-align: right;\n",
       "    }\n",
       "</style>\n",
       "<table border=\"1\" class=\"dataframe\">\n",
       "  <thead>\n",
       "    <tr style=\"text-align: right;\">\n",
       "      <th></th>\n",
       "      <th>step</th>\n",
       "      <th>amount</th>\n",
       "      <th>oldbalanceOrg</th>\n",
       "      <th>newbalanceOrig</th>\n",
       "      <th>oldbalanceDest</th>\n",
       "      <th>newbalanceDest</th>\n",
       "      <th>isFraud</th>\n",
       "    </tr>\n",
       "  </thead>\n",
       "  <tbody>\n",
       "    <tr>\n",
       "      <th>count</th>\n",
       "      <td>1.048575e+06</td>\n",
       "      <td>1.048575e+06</td>\n",
       "      <td>1.048575e+06</td>\n",
       "      <td>1.048575e+06</td>\n",
       "      <td>1.048575e+06</td>\n",
       "      <td>1.048575e+06</td>\n",
       "      <td>1.048575e+06</td>\n",
       "    </tr>\n",
       "    <tr>\n",
       "      <th>mean</th>\n",
       "      <td>2.696617e+01</td>\n",
       "      <td>1.586670e+05</td>\n",
       "      <td>8.740095e+05</td>\n",
       "      <td>8.938089e+05</td>\n",
       "      <td>9.781600e+05</td>\n",
       "      <td>1.114198e+06</td>\n",
       "      <td>1.089097e-03</td>\n",
       "    </tr>\n",
       "    <tr>\n",
       "      <th>std</th>\n",
       "      <td>1.562325e+01</td>\n",
       "      <td>2.649409e+05</td>\n",
       "      <td>2.971751e+06</td>\n",
       "      <td>3.008271e+06</td>\n",
       "      <td>2.296780e+06</td>\n",
       "      <td>2.416593e+06</td>\n",
       "      <td>3.298351e-02</td>\n",
       "    </tr>\n",
       "    <tr>\n",
       "      <th>min</th>\n",
       "      <td>1.000000e+00</td>\n",
       "      <td>1.000000e-01</td>\n",
       "      <td>0.000000e+00</td>\n",
       "      <td>0.000000e+00</td>\n",
       "      <td>0.000000e+00</td>\n",
       "      <td>0.000000e+00</td>\n",
       "      <td>0.000000e+00</td>\n",
       "    </tr>\n",
       "    <tr>\n",
       "      <th>25%</th>\n",
       "      <td>1.500000e+01</td>\n",
       "      <td>1.214907e+04</td>\n",
       "      <td>0.000000e+00</td>\n",
       "      <td>0.000000e+00</td>\n",
       "      <td>0.000000e+00</td>\n",
       "      <td>0.000000e+00</td>\n",
       "      <td>0.000000e+00</td>\n",
       "    </tr>\n",
       "    <tr>\n",
       "      <th>50%</th>\n",
       "      <td>2.000000e+01</td>\n",
       "      <td>7.634333e+04</td>\n",
       "      <td>1.600200e+04</td>\n",
       "      <td>0.000000e+00</td>\n",
       "      <td>1.263772e+05</td>\n",
       "      <td>2.182604e+05</td>\n",
       "      <td>0.000000e+00</td>\n",
       "    </tr>\n",
       "    <tr>\n",
       "      <th>75%</th>\n",
       "      <td>3.900000e+01</td>\n",
       "      <td>2.137619e+05</td>\n",
       "      <td>1.366420e+05</td>\n",
       "      <td>1.746000e+05</td>\n",
       "      <td>9.159235e+05</td>\n",
       "      <td>1.149808e+06</td>\n",
       "      <td>0.000000e+00</td>\n",
       "    </tr>\n",
       "    <tr>\n",
       "      <th>max</th>\n",
       "      <td>9.500000e+01</td>\n",
       "      <td>1.000000e+07</td>\n",
       "      <td>3.890000e+07</td>\n",
       "      <td>3.890000e+07</td>\n",
       "      <td>4.210000e+07</td>\n",
       "      <td>4.220000e+07</td>\n",
       "      <td>1.000000e+00</td>\n",
       "    </tr>\n",
       "  </tbody>\n",
       "</table>\n",
       "</div>"
      ],
      "text/plain": [
       "               step        amount  oldbalanceOrg  newbalanceOrig  \\\n",
       "count  1.048575e+06  1.048575e+06   1.048575e+06    1.048575e+06   \n",
       "mean   2.696617e+01  1.586670e+05   8.740095e+05    8.938089e+05   \n",
       "std    1.562325e+01  2.649409e+05   2.971751e+06    3.008271e+06   \n",
       "min    1.000000e+00  1.000000e-01   0.000000e+00    0.000000e+00   \n",
       "25%    1.500000e+01  1.214907e+04   0.000000e+00    0.000000e+00   \n",
       "50%    2.000000e+01  7.634333e+04   1.600200e+04    0.000000e+00   \n",
       "75%    3.900000e+01  2.137619e+05   1.366420e+05    1.746000e+05   \n",
       "max    9.500000e+01  1.000000e+07   3.890000e+07    3.890000e+07   \n",
       "\n",
       "       oldbalanceDest  newbalanceDest       isFraud  \n",
       "count    1.048575e+06    1.048575e+06  1.048575e+06  \n",
       "mean     9.781600e+05    1.114198e+06  1.089097e-03  \n",
       "std      2.296780e+06    2.416593e+06  3.298351e-02  \n",
       "min      0.000000e+00    0.000000e+00  0.000000e+00  \n",
       "25%      0.000000e+00    0.000000e+00  0.000000e+00  \n",
       "50%      1.263772e+05    2.182604e+05  0.000000e+00  \n",
       "75%      9.159235e+05    1.149808e+06  0.000000e+00  \n",
       "max      4.210000e+07    4.220000e+07  1.000000e+00  "
      ]
     },
     "execution_count": 9,
     "metadata": {},
     "output_type": "execute_result"
    }
   ],
   "source": [
    "# data frame with numerical features\n",
    "data.describe()"
   ]
  },
  {
   "cell_type": "raw",
   "metadata": {
    "id": "VH6W1rXPvzFk"
   },
   "source": [
    "The above output illustrates the summary statistics of all the numeric variables like the mean, median(50%), minimum, and maximum values, along with the standard deviation"
   ]
  },
  {
   "cell_type": "code",
   "execution_count": 10,
   "metadata": {
    "colab": {
     "base_uri": "https://localhost:8080/",
     "height": 175
    },
    "id": "GhyIeB1hvzFk",
    "outputId": "85cfb880-4cd0-48aa-c326-b68e4ab316d5"
   },
   "outputs": [
    {
     "data": {
      "text/html": [
       "<div>\n",
       "<style scoped>\n",
       "    .dataframe tbody tr th:only-of-type {\n",
       "        vertical-align: middle;\n",
       "    }\n",
       "\n",
       "    .dataframe tbody tr th {\n",
       "        vertical-align: top;\n",
       "    }\n",
       "\n",
       "    .dataframe thead th {\n",
       "        text-align: right;\n",
       "    }\n",
       "</style>\n",
       "<table border=\"1\" class=\"dataframe\">\n",
       "  <thead>\n",
       "    <tr style=\"text-align: right;\">\n",
       "      <th></th>\n",
       "      <th>type</th>\n",
       "      <th>nameOrig</th>\n",
       "      <th>nameDest</th>\n",
       "    </tr>\n",
       "  </thead>\n",
       "  <tbody>\n",
       "    <tr>\n",
       "      <th>count</th>\n",
       "      <td>1048575</td>\n",
       "      <td>1048575</td>\n",
       "      <td>1048575</td>\n",
       "    </tr>\n",
       "    <tr>\n",
       "      <th>unique</th>\n",
       "      <td>5</td>\n",
       "      <td>1048317</td>\n",
       "      <td>449635</td>\n",
       "    </tr>\n",
       "    <tr>\n",
       "      <th>top</th>\n",
       "      <td>CASH_OUT</td>\n",
       "      <td>C1274691223</td>\n",
       "      <td>C985934102</td>\n",
       "    </tr>\n",
       "    <tr>\n",
       "      <th>freq</th>\n",
       "      <td>373641</td>\n",
       "      <td>2</td>\n",
       "      <td>98</td>\n",
       "    </tr>\n",
       "  </tbody>\n",
       "</table>\n",
       "</div>"
      ],
      "text/plain": [
       "            type     nameOrig    nameDest\n",
       "count    1048575      1048575     1048575\n",
       "unique         5      1048317      449635\n",
       "top     CASH_OUT  C1274691223  C985934102\n",
       "freq      373641            2          98"
      ]
     },
     "execution_count": 10,
     "metadata": {},
     "output_type": "execute_result"
    }
   ],
   "source": [
    "# data frame with categorical features\n",
    "data.describe(include='object')"
   ]
  },
  {
   "cell_type": "markdown",
   "metadata": {
    "id": "_9kZp4dwvzFl"
   },
   "source": [
    "\t\n",
    "##### The above output illustrates the summary statistics of the categorical variables i.e diagnosis(no.of levels in the variable), top(majority level) and the count of the majority level"
   ]
  },
  {
   "cell_type": "markdown",
   "metadata": {
    "id": "7e54vxqVvzFl"
   },
   "source": [
    "#### Data Cleaning "
   ]
  },
  {
   "cell_type": "code",
   "execution_count": 11,
   "metadata": {
    "colab": {
     "base_uri": "https://localhost:8080/",
     "height": 206
    },
    "id": "-9mxUIfbvzFl",
    "outputId": "8013261f-8b38-4a33-f36b-b330408f5955"
   },
   "outputs": [
    {
     "data": {
      "text/html": [
       "<div>\n",
       "<style scoped>\n",
       "    .dataframe tbody tr th:only-of-type {\n",
       "        vertical-align: middle;\n",
       "    }\n",
       "\n",
       "    .dataframe tbody tr th {\n",
       "        vertical-align: top;\n",
       "    }\n",
       "\n",
       "    .dataframe thead th {\n",
       "        text-align: right;\n",
       "    }\n",
       "</style>\n",
       "<table border=\"1\" class=\"dataframe\">\n",
       "  <thead>\n",
       "    <tr style=\"text-align: right;\">\n",
       "      <th></th>\n",
       "      <th>step</th>\n",
       "      <th>type</th>\n",
       "      <th>amount</th>\n",
       "      <th>sender</th>\n",
       "      <th>sender_OldBal</th>\n",
       "      <th>sender_NewBal</th>\n",
       "      <th>recipient</th>\n",
       "      <th>recipient_OldBal</th>\n",
       "      <th>recipient_NewBal</th>\n",
       "      <th>isFraud</th>\n",
       "    </tr>\n",
       "  </thead>\n",
       "  <tbody>\n",
       "    <tr>\n",
       "      <th>0</th>\n",
       "      <td>1</td>\n",
       "      <td>PAYMENT</td>\n",
       "      <td>9839.64</td>\n",
       "      <td>C1231006815</td>\n",
       "      <td>170136.0</td>\n",
       "      <td>160296.36</td>\n",
       "      <td>M1979787155</td>\n",
       "      <td>0.0</td>\n",
       "      <td>0.0</td>\n",
       "      <td>0</td>\n",
       "    </tr>\n",
       "    <tr>\n",
       "      <th>1</th>\n",
       "      <td>1</td>\n",
       "      <td>PAYMENT</td>\n",
       "      <td>1864.28</td>\n",
       "      <td>C1666544295</td>\n",
       "      <td>21249.0</td>\n",
       "      <td>19384.72</td>\n",
       "      <td>M2044282225</td>\n",
       "      <td>0.0</td>\n",
       "      <td>0.0</td>\n",
       "      <td>0</td>\n",
       "    </tr>\n",
       "    <tr>\n",
       "      <th>2</th>\n",
       "      <td>1</td>\n",
       "      <td>TRANSFER</td>\n",
       "      <td>181.00</td>\n",
       "      <td>C1305486145</td>\n",
       "      <td>181.0</td>\n",
       "      <td>0.00</td>\n",
       "      <td>C553264065</td>\n",
       "      <td>0.0</td>\n",
       "      <td>0.0</td>\n",
       "      <td>1</td>\n",
       "    </tr>\n",
       "    <tr>\n",
       "      <th>3</th>\n",
       "      <td>1</td>\n",
       "      <td>CASH_OUT</td>\n",
       "      <td>181.00</td>\n",
       "      <td>C840083671</td>\n",
       "      <td>181.0</td>\n",
       "      <td>0.00</td>\n",
       "      <td>C38997010</td>\n",
       "      <td>21182.0</td>\n",
       "      <td>0.0</td>\n",
       "      <td>1</td>\n",
       "    </tr>\n",
       "    <tr>\n",
       "      <th>4</th>\n",
       "      <td>1</td>\n",
       "      <td>PAYMENT</td>\n",
       "      <td>11668.14</td>\n",
       "      <td>C2048537720</td>\n",
       "      <td>41554.0</td>\n",
       "      <td>29885.86</td>\n",
       "      <td>M1230701703</td>\n",
       "      <td>0.0</td>\n",
       "      <td>0.0</td>\n",
       "      <td>0</td>\n",
       "    </tr>\n",
       "  </tbody>\n",
       "</table>\n",
       "</div>"
      ],
      "text/plain": [
       "   step      type    amount       sender  sender_OldBal  sender_NewBal  \\\n",
       "0     1   PAYMENT   9839.64  C1231006815       170136.0      160296.36   \n",
       "1     1   PAYMENT   1864.28  C1666544295        21249.0       19384.72   \n",
       "2     1  TRANSFER    181.00  C1305486145          181.0           0.00   \n",
       "3     1  CASH_OUT    181.00   C840083671          181.0           0.00   \n",
       "4     1   PAYMENT  11668.14  C2048537720        41554.0       29885.86   \n",
       "\n",
       "     recipient  recipient_OldBal  recipient_NewBal  isFraud  \n",
       "0  M1979787155               0.0               0.0        0  \n",
       "1  M2044282225               0.0               0.0        0  \n",
       "2   C553264065               0.0               0.0        1  \n",
       "3    C38997010           21182.0               0.0        1  \n",
       "4  M1230701703               0.0               0.0        0  "
      ]
     },
     "execution_count": 11,
     "metadata": {},
     "output_type": "execute_result"
    }
   ],
   "source": [
    "#rename the variable name\n",
    "data.rename(columns={'nameOrig':'sender','oldbalanceOrg':'sender_OldBal','newbalanceOrig':'sender_NewBal',\n",
    "                         'nameDest':'recipient','oldbalanceDest':'recipient_OldBal','newbalanceDest':'recipient_NewBal'}, \n",
    "                          inplace =True)\n",
    "data.head()\n"
   ]
  },
  {
   "cell_type": "code",
   "execution_count": 12,
   "metadata": {
    "colab": {
     "base_uri": "https://localhost:8080/"
    },
    "id": "tyGWJJWGvzFl",
    "outputId": "ba720377-03de-4096-8312-f94f46769273",
    "scrolled": true
   },
   "outputs": [
    {
     "data": {
      "text/plain": [
       "Index(['step', 'type', 'amount', 'sender', 'sender_OldBal', 'sender_NewBal',\n",
       "       'recipient', 'recipient_OldBal', 'recipient_NewBal', 'isFraud'],\n",
       "      dtype='object')"
      ]
     },
     "execution_count": 12,
     "metadata": {},
     "output_type": "execute_result"
    }
   ],
   "source": [
    "data.columns"
   ]
  },
  {
   "cell_type": "markdown",
   "metadata": {
    "id": "feB1VGsevzFl"
   },
   "source": [
    "##### From Above output we can see that variable name are renamed."
   ]
  },
  {
   "cell_type": "code",
   "execution_count": 13,
   "metadata": {
    "colab": {
     "base_uri": "https://localhost:8080/"
    },
    "id": "E2wgKmhJvzFm",
    "outputId": "79759e19-3314-488f-bd7d-d88d033d1c82"
   },
   "outputs": [
    {
     "data": {
      "text/plain": [
       "step                  int64\n",
       "type                 object\n",
       "amount              float64\n",
       "sender               object\n",
       "sender_OldBal       float64\n",
       "sender_NewBal       float64\n",
       "recipient            object\n",
       "recipient_OldBal    float64\n",
       "recipient_NewBal    float64\n",
       "isFraud               int64\n",
       "dtype: object"
      ]
     },
     "execution_count": 13,
     "metadata": {},
     "output_type": "execute_result"
    }
   ],
   "source": [
    "data.dtypes"
   ]
  },
  {
   "cell_type": "markdown",
   "metadata": {
    "id": "8pasGCzIvzFm"
   },
   "source": [
    "####  Missing Data Treatment"
   ]
  },
  {
   "cell_type": "code",
   "execution_count": 14,
   "metadata": {
    "colab": {
     "base_uri": "https://localhost:8080/"
    },
    "id": "6xXW1GxqvzFm",
    "outputId": "a4fb9de0-87c5-4a9c-c4f5-7865b191776d"
   },
   "outputs": [
    {
     "data": {
      "text/plain": [
       "step                0\n",
       "type                0\n",
       "amount              0\n",
       "sender              0\n",
       "sender_OldBal       0\n",
       "sender_NewBal       0\n",
       "recipient           0\n",
       "recipient_OldBal    0\n",
       "recipient_NewBal    0\n",
       "isFraud             0\n",
       "dtype: int64"
      ]
     },
     "execution_count": 14,
     "metadata": {},
     "output_type": "execute_result"
    }
   ],
   "source": [
    "data.isnull().sum()"
   ]
  },
  {
   "cell_type": "markdown",
   "metadata": {
    "id": "KPf4dvH3vzFm"
   },
   "source": [
    "##### There is no missing values"
   ]
  },
  {
   "cell_type": "markdown",
   "metadata": {
    "id": "xcOmBqnavzFm"
   },
   "source": [
    "#### Check Unique Values"
   ]
  },
  {
   "cell_type": "code",
   "execution_count": 15,
   "metadata": {
    "colab": {
     "base_uri": "https://localhost:8080/"
    },
    "id": "k8u4ShaEvzFm",
    "outputId": "654f35d6-2f06-45f4-a4f5-2bad305cc27f",
    "scrolled": true
   },
   "outputs": [
    {
     "name": "stdout",
     "output_type": "stream",
     "text": [
      "{'step': array([ 1,  2,  3,  4,  5,  6,  7,  8,  9, 10, 11, 12, 13, 14, 15, 16, 17,\n",
      "       18, 19, 20, 21, 22, 23, 24, 25, 26, 27, 28, 29, 30, 31, 32, 33, 34,\n",
      "       35, 36, 37, 38, 39, 40, 41, 42, 43, 44, 45, 46, 47, 48, 49, 50, 51,\n",
      "       52, 53, 54, 55, 56, 57, 58, 59, 60, 61, 62, 63, 64, 65, 66, 67, 68,\n",
      "       69, 70, 71, 72, 73, 74, 75, 76, 77, 78, 79, 80, 81, 82, 83, 84, 85,\n",
      "       86, 87, 88, 89, 90, 91, 92, 93, 94, 95], dtype=int64)}\n",
      "{'type': array(['PAYMENT', 'TRANSFER', 'CASH_OUT', 'DEBIT', 'CASH_IN'],\n",
      "      dtype=object)}\n",
      "{'amount': array([ 9839.64,  1864.28,   181.  , ...,  9917.36, 14140.05, 11450.03])}\n",
      "{'sender': array(['C1231006815', 'C1666544295', 'C1305486145', ..., 'C2037964975',\n",
      "       'C1633237354', 'C1264356443'], dtype=object)}\n",
      "{'sender_OldBal': array([1.701360e+05, 2.124900e+04, 1.810000e+02, ..., 4.798030e+05,\n",
      "       9.054500e+04, 8.058495e+04])}\n",
      "{'sender_NewBal': array([160296.36,  19384.72,      0.  , ...,   6404.95,  80584.95,\n",
      "        69134.92])}\n",
      "{'recipient': array(['M1979787155', 'M2044282225', 'C553264065', ..., 'M1355182933',\n",
      "       'M1964992463', 'M677577406'], dtype=object)}\n",
      "{'recipient_OldBal': array([      0.  ,   21182.  ,   41898.  , ...,  631284.08, 1847488.28,\n",
      "        484329.37])}\n",
      "{'recipient_NewBal': array([      0.  ,   40348.79,  157982.12, ...,  763671.32, 2127162.32,\n",
      "        616886.72])}\n",
      "{'isFraud': array([0, 1], dtype=int64)}\n"
     ]
    }
   ],
   "source": [
    "#unique values \n",
    "for i in data.columns:\n",
    "    print({i:data[i].unique()})"
   ]
  },
  {
   "cell_type": "markdown",
   "metadata": {
    "id": "XYDUP2-4vzFn"
   },
   "source": [
    "#### Visualization"
   ]
  },
  {
   "cell_type": "code",
   "execution_count": 16,
   "metadata": {
    "colab": {
     "base_uri": "https://localhost:8080/",
     "height": 468
    },
    "id": "TRRmWGtivzFn",
    "outputId": "4eb4932e-6ba0-4971-8a52-88737a48e52a"
   },
   "outputs": [
    {
     "data": {
      "text/plain": [
       "<matplotlib.axes._subplots.AxesSubplot at 0x20f097cb688>"
      ]
     },
     "execution_count": 16,
     "metadata": {},
     "output_type": "execute_result"
    },
    {
     "data": {
      "image/png": "[encoded data removed]",
      "text/plain": [
       "<Figure size 432x288 with 1 Axes>"
      ]
     },
     "metadata": {
      "needs_background": "light"
     },
     "output_type": "display_data"
    }
   ],
   "source": [
    "#What is the most type of transaction caused fraud?\n",
    "\n",
    "\n",
    "t=pd.DataFrame(data.groupby(by=data['type'])['isFraud'].sum())   \n",
    "sns.barplot(data=t,x=t.index, y='isFraud')\n"
   ]
  },
  {
   "cell_type": "markdown",
   "metadata": {
    "id": "N1LABQEbvzFn"
   },
   "source": [
    "###### From above output we can notice that most of the frauds happened is through Cash_out & Transfer transaction"
   ]
  },
  {
   "cell_type": "code",
   "execution_count": 17,
   "metadata": {
    "colab": {
     "base_uri": "https://localhost:8080/",
     "height": 762
    },
    "id": "I5dHrm0GvzFn",
    "outputId": "806e59db-1009-4630-fa2f-9b5dbb406d8c"
   },
   "outputs": [
    {
     "name": "stdout",
     "output_type": "stream",
     "text": [
      "CASH_OUT    373641\n",
      "PAYMENT     353873\n",
      "CASH_IN     227130\n",
      "TRANSFER     86753\n",
      "DEBIT         7178\n",
      "Name: type, dtype: int64\n"
     ]
    },
    {
     "data": {
      "text/plain": [
       "Text(0, 0.5, 'Count')"
      ]
     },
     "execution_count": 17,
     "metadata": {},
     "output_type": "execute_result"
    },
    {
     "data": {
      "image/png": "[encoded data removed]",
      "text/plain": [
       "<Figure size 504x504 with 1 Axes>"
      ]
     },
     "metadata": {
      "needs_background": "light"
     },
     "output_type": "display_data"
    }
   ],
   "source": [
    "# Count of payment transactions\n",
    "print(data['type'].value_counts())\n",
    "\n",
    "\n",
    "# Count of payment transactions through bar plot\n",
    "plt.figure(figsize=(7,7))\n",
    "plt.title('Payment Channels')\n",
    "sns.countplot(x='type', data=data)\n",
    "\n",
    "plt.xlabel('Types of Payment Channel')\n",
    "plt.ylabel('Count')"
   ]
  },
  {
   "cell_type": "code",
   "execution_count": 18,
   "metadata": {
    "colab": {
     "base_uri": "https://localhost:8080/",
     "height": 1000
    },
    "id": "pUK_ohUm3Lsa",
    "outputId": "865dbfec-e0b6-4535-f6b4-5602d3a1167b"
   },
   "outputs": [
    {
     "data": {
      "image/png": "[encoded data removed]",
      "text/plain": [
       "<Figure size 432x288 with 1 Axes>"
      ]
     },
     "metadata": {
      "needs_background": "light"
     },
     "output_type": "display_data"
    },
    {
     "data": {
      "image/png": "[encoded data removed]",
      "text/plain": [
       "<Figure size 432x288 with 1 Axes>"
      ]
     },
     "metadata": {
      "needs_background": "light"
     },
     "output_type": "display_data"
    },
    {
     "data": {
      "image/png": "[encoded data removed]",
      "text/plain": [
       "<Figure size 432x288 with 1 Axes>"
      ]
     },
     "metadata": {
      "needs_background": "light"
     },
     "output_type": "display_data"
    },
    {
     "data": {
      "image/png": "[encoded data removed]",
      "text/plain": [
       "<Figure size 432x288 with 1 Axes>"
      ]
     },
     "metadata": {
      "needs_background": "light"
     },
     "output_type": "display_data"
    },
    {
     "data": {
      "image/png": "[encoded data removed]",
      "text/plain": [
       "<Figure size 432x288 with 1 Axes>"
      ]
     },
     "metadata": {
      "needs_background": "light"
     },
     "output_type": "display_data"
    },
    {
     "data": {
      "image/png": "[encoded data removed]",
      "text/plain": [
       "<Figure size 432x288 with 1 Axes>"
      ]
     },
     "metadata": {
      "needs_background": "light"
     },
     "output_type": "display_data"
    },
    {
     "data": {
      "image/png": "[encoded data removed]",
      "text/plain": [
       "<Figure size 432x288 with 1 Axes>"
      ]
     },
     "metadata": {
      "needs_background": "light"
     },
     "output_type": "display_data"
    }
   ],
   "source": [
    "\n",
    "#make a copy of dataframe which includes only numerical variables.\n",
    "Data_column=data[['step',  'amount', 'sender_OldBal', 'sender_NewBal',\n",
    "        'recipient_OldBal', 'recipient_NewBal', 'isFraud']].copy()\n",
    "\n",
    "#Checking outliers using boxplot\n",
    "for i in Data_column.columns:   \n",
    "    data.boxplot(column=i)   \n",
    "    plt.show()   "
   ]
  },
  {
   "cell_type": "code",
   "execution_count": 19,
   "metadata": {
    "colab": {
     "base_uri": "https://localhost:8080/",
     "height": 1000
    },
    "id": "-WLmNJ0gvzFn",
    "outputId": "49519519-b9ed-4af8-94b0-dbd1dab6149a"
   },
   "outputs": [
    {
     "data": {
      "image/png": "[encoded data removed]",
      "text/plain": [
       "<Figure size 1296x1296 with 9 Axes>"
      ]
     },
     "metadata": {
      "needs_background": "light"
     },
     "output_type": "display_data"
    }
   ],
   "source": [
    "#Histogram plot\n",
    "fig = data.hist(figsize = (18,18))"
   ]
  },
  {
   "cell_type": "code",
   "execution_count": 20,
   "metadata": {
    "colab": {
     "base_uri": "https://localhost:8080/",
     "height": 837
    },
    "id": "ylqpCKY5vzFo",
    "outputId": "cf6dc2da-58b8-40e6-fe78-df4641f048eb"
   },
   "outputs": [
    {
     "data": {
      "image/png": "[encoded data removed]",
      "text/plain": [
       "<Figure size 720x720 with 1 Axes>"
      ]
     },
     "metadata": {},
     "output_type": "display_data"
    }
   ],
   "source": [
    "labels = ['CASH_OUT', 'PAYMENT', 'CASH_IN', 'TRANSFER', 'DEBIT']\n",
    "size = [373641, 353873, 227130, 86753, 7178]\n",
    "colors = ['pink', 'lightgreen', 'lightblue', 'orange', 'yellow']\n",
    "explode = [0.1, 0.1, 0.1, 0.1, 0.1]\n",
    "\n",
    "plt.rcParams['figure.figsize'] = (10, 10)\n",
    "plt.pie(size, colors = colors, explode = explode, labels = labels, shadow = True,autopct='%1.1f%%')\n",
    "plt.title('A pie chart representing different types of money transactions', fontsize = 20)\n",
    "plt.axis('off')\n",
    "plt.legend()\n",
    "plt.show()"
   ]
  },
  {
   "cell_type": "code",
   "execution_count": 21,
   "metadata": {
    "colab": {
     "base_uri": "https://localhost:8080/"
    },
    "id": "P0gDNCEDvzFo",
    "outputId": "e9f9997e-3ff9-4c0a-ce91-c69d5e91be23"
   },
   "outputs": [
    {
     "data": {
      "text/plain": [
       "Index(['step', 'type', 'amount', 'sender', 'sender_OldBal', 'sender_NewBal',\n",
       "       'recipient', 'recipient_OldBal', 'recipient_NewBal', 'isFraud'],\n",
       "      dtype='object')"
      ]
     },
     "execution_count": 21,
     "metadata": {},
     "output_type": "execute_result"
    }
   ],
   "source": [
    "data.columns"
   ]
  },
  {
   "cell_type": "code",
   "execution_count": 22,
   "metadata": {
    "id": "nv_iFkhFvzFo"
   },
   "outputs": [],
   "source": [
    "#sns plot error"
   ]
  },
  {
   "cell_type": "code",
   "execution_count": 23,
   "metadata": {
    "colab": {
     "base_uri": "https://localhost:8080/",
     "height": 1000
    },
    "id": "d5Eso_MvvzFo",
    "outputId": "c92c19dd-8548-4937-974c-d0674e0addcb"
   },
   "outputs": [],
   "source": [
    "#.Pair plot graph  \n",
    "\n",
    "# sns.pairplot(data,x_vars=['step', 'type', 'amount','sender_OldBal', \n",
    "#                           'sender_NewBal','recipient_OldBal', 'recipient_NewBal'],\n",
    "#              y_vars=\"isFraud\",kind='reg')\n",
    "\n",
    "# sns.pairplot(data)"
   ]
  },
  {
   "cell_type": "code",
   "execution_count": null,
   "metadata": {
    "id": "maAnecbivzFo"
   },
   "outputs": [],
   "source": []
  },
  {
   "cell_type": "markdown",
   "metadata": {
    "id": "Gx8wCg0dvzFo"
   },
   "source": [
    "#### Correlation"
   ]
  },
  {
   "cell_type": "markdown",
   "metadata": {
    "id": "vTlhrFvUvzFo"
   },
   "source": [
    "Call the corr() function which will return the correlation matrix of numeric variables"
   ]
  },
  {
   "cell_type": "code",
   "execution_count": 24,
   "metadata": {
    "colab": {
     "base_uri": "https://localhost:8080/"
    },
    "id": "8UGnbUuMvzFp",
    "outputId": "289766f9-97e2-4bc6-91bb-804c7e2bd73d"
   },
   "outputs": [
    {
     "name": "stdout",
     "output_type": "stream",
     "text": [
      "                      step    amount  sender_OldBal  sender_NewBal  \\\n",
      "step              1.000000 -0.025996      -0.006780      -0.007180   \n",
      "amount           -0.025996  1.000000       0.004864      -0.001133   \n",
      "sender_OldBal    -0.006780  0.004864       1.000000       0.999047   \n",
      "sender_NewBal    -0.007180 -0.001133       0.999047       1.000000   \n",
      "recipient_OldBal -0.002251  0.215558       0.093305       0.095182   \n",
      "recipient_NewBal -0.019503  0.311936       0.064049       0.063725   \n",
      "isFraud           0.045030  0.128862       0.003829      -0.009438   \n",
      "\n",
      "                  recipient_OldBal  recipient_NewBal   isFraud  \n",
      "step                     -0.002251         -0.019503  0.045030  \n",
      "amount                    0.215558          0.311936  0.128862  \n",
      "sender_OldBal             0.093305          0.064049  0.003829  \n",
      "sender_NewBal             0.095182          0.063725 -0.009438  \n",
      "recipient_OldBal          1.000000          0.978403 -0.007552  \n",
      "recipient_NewBal          0.978403          1.000000 -0.000495  \n",
      "isFraud                  -0.007552         -0.000495  1.000000  \n"
     ]
    }
   ],
   "source": [
    "# Chcek whether there is relation or not\n",
    "corr_df=data.corr(method=\"pearson\")\n",
    "print(corr_df)\n",
    "\n"
   ]
  },
  {
   "cell_type": "code",
   "execution_count": 25,
   "metadata": {
    "colab": {
     "base_uri": "https://localhost:8080/",
     "height": 959
    },
    "id": "jVNdcNRivzFp",
    "outputId": "f3ca6b7e-b719-4fa3-da90-10c7e1b7c4b8"
   },
   "outputs": [
    {
     "data": {
      "text/plain": [
       "<matplotlib.axes._subplots.AxesSubplot at 0x20f0aaab188>"
      ]
     },
     "execution_count": 25,
     "metadata": {},
     "output_type": "execute_result"
    },
    {
     "data": {
      "image/png": "[encoded data removed]",
      "text/plain": [
       "<Figure size 720x720 with 2 Axes>"
      ]
     },
     "metadata": {
      "needs_background": "light"
     },
     "output_type": "display_data"
    }
   ],
   "source": [
    "#correlation map\n",
    "sns.heatmap(corr_df,vmax=1.0,vmin=-1.0,annot=True,cmap =\"Pastel1_r\" )\n"
   ]
  },
  {
   "cell_type": "markdown",
   "metadata": {
    "id": "X4GIVv7lvzFp"
   },
   "source": [
    "Need to change below output staetment acc to heatmap"
   ]
  },
  {
   "cell_type": "raw",
   "metadata": {
    "id": "DVrDP_cpvzFp"
   },
   "source": [
    "Looking at both multivariate charts, we can see that there's a lack of correlation between the columns in this data. However, there is some correlation between amount and bank balances. This correlation however is not very strong."
   ]
  },
  {
   "cell_type": "markdown",
   "metadata": {
    "id": "hETNgQZVvzFp"
   },
   "source": [
    "#### Feature Selection"
   ]
  },
  {
   "cell_type": "raw",
   "metadata": {
    "id": "ri7_OxFavzFp"
   },
   "source": [
    "As the sender and recipient ID are not important, we drop them from the data:"
   ]
  },
  {
   "cell_type": "code",
   "execution_count": 26,
   "metadata": {
    "id": "iF5aqU8WvzFp"
   },
   "outputs": [],
   "source": [
    "#drop sender variable\n",
    "data = data.drop(\"sender\", axis=1)"
   ]
  },
  {
   "cell_type": "code",
   "execution_count": 27,
   "metadata": {
    "id": "WHzKVf-zvzFq"
   },
   "outputs": [],
   "source": [
    "#drop recipient variable\n",
    "data = data.drop(\"recipient\", axis=1)"
   ]
  },
  {
   "cell_type": "code",
   "execution_count": 28,
   "metadata": {
    "colab": {
     "base_uri": "https://localhost:8080/",
     "height": 206
    },
    "id": "xj5SCmX_vzFq",
    "outputId": "83eedbfb-974b-4f23-cfbc-69953c554afb"
   },
   "outputs": [
    {
     "data": {
      "text/html": [
       "<div>\n",
       "<style scoped>\n",
       "    .dataframe tbody tr th:only-of-type {\n",
       "        vertical-align: middle;\n",
       "    }\n",
       "\n",
       "    .dataframe tbody tr th {\n",
       "        vertical-align: top;\n",
       "    }\n",
       "\n",
       "    .dataframe thead th {\n",
       "        text-align: right;\n",
       "    }\n",
       "</style>\n",
       "<table border=\"1\" class=\"dataframe\">\n",
       "  <thead>\n",
       "    <tr style=\"text-align: right;\">\n",
       "      <th></th>\n",
       "      <th>step</th>\n",
       "      <th>type</th>\n",
       "      <th>amount</th>\n",
       "      <th>sender_OldBal</th>\n",
       "      <th>sender_NewBal</th>\n",
       "      <th>recipient_OldBal</th>\n",
       "      <th>recipient_NewBal</th>\n",
       "      <th>isFraud</th>\n",
       "    </tr>\n",
       "  </thead>\n",
       "  <tbody>\n",
       "    <tr>\n",
       "      <th>0</th>\n",
       "      <td>1</td>\n",
       "      <td>PAYMENT</td>\n",
       "      <td>9839.64</td>\n",
       "      <td>170136.0</td>\n",
       "      <td>160296.36</td>\n",
       "      <td>0.0</td>\n",
       "      <td>0.0</td>\n",
       "      <td>0</td>\n",
       "    </tr>\n",
       "    <tr>\n",
       "      <th>1</th>\n",
       "      <td>1</td>\n",
       "      <td>PAYMENT</td>\n",
       "      <td>1864.28</td>\n",
       "      <td>21249.0</td>\n",
       "      <td>19384.72</td>\n",
       "      <td>0.0</td>\n",
       "      <td>0.0</td>\n",
       "      <td>0</td>\n",
       "    </tr>\n",
       "    <tr>\n",
       "      <th>2</th>\n",
       "      <td>1</td>\n",
       "      <td>TRANSFER</td>\n",
       "      <td>181.00</td>\n",
       "      <td>181.0</td>\n",
       "      <td>0.00</td>\n",
       "      <td>0.0</td>\n",
       "      <td>0.0</td>\n",
       "      <td>1</td>\n",
       "    </tr>\n",
       "    <tr>\n",
       "      <th>3</th>\n",
       "      <td>1</td>\n",
       "      <td>CASH_OUT</td>\n",
       "      <td>181.00</td>\n",
       "      <td>181.0</td>\n",
       "      <td>0.00</td>\n",
       "      <td>21182.0</td>\n",
       "      <td>0.0</td>\n",
       "      <td>1</td>\n",
       "    </tr>\n",
       "    <tr>\n",
       "      <th>4</th>\n",
       "      <td>1</td>\n",
       "      <td>PAYMENT</td>\n",
       "      <td>11668.14</td>\n",
       "      <td>41554.0</td>\n",
       "      <td>29885.86</td>\n",
       "      <td>0.0</td>\n",
       "      <td>0.0</td>\n",
       "      <td>0</td>\n",
       "    </tr>\n",
       "  </tbody>\n",
       "</table>\n",
       "</div>"
      ],
      "text/plain": [
       "   step      type    amount  sender_OldBal  sender_NewBal  recipient_OldBal  \\\n",
       "0     1   PAYMENT   9839.64       170136.0      160296.36               0.0   \n",
       "1     1   PAYMENT   1864.28        21249.0       19384.72               0.0   \n",
       "2     1  TRANSFER    181.00          181.0           0.00               0.0   \n",
       "3     1  CASH_OUT    181.00          181.0           0.00           21182.0   \n",
       "4     1   PAYMENT  11668.14        41554.0       29885.86               0.0   \n",
       "\n",
       "   recipient_NewBal  isFraud  \n",
       "0               0.0        0  \n",
       "1               0.0        0  \n",
       "2               0.0        1  \n",
       "3               0.0        1  \n",
       "4               0.0        0  "
      ]
     },
     "execution_count": 28,
     "metadata": {},
     "output_type": "execute_result"
    }
   ],
   "source": [
    "data.head()"
   ]
  },
  {
   "cell_type": "raw",
   "metadata": {
    "id": "bg9asG90vzFq"
   },
   "source": [
    "After dropping the 'sender' and 'recipient' column, the only column with an object left is the 'type' column:"
   ]
  },
  {
   "cell_type": "code",
   "execution_count": 29,
   "metadata": {
    "colab": {
     "base_uri": "https://localhost:8080/"
    },
    "id": "5QPmNg0rvzFq",
    "outputId": "0b70fc59-88f3-49b6-e803-c883e365ccf7"
   },
   "outputs": [
    {
     "data": {
      "text/plain": [
       "(1048575, 8)"
      ]
     },
     "execution_count": 29,
     "metadata": {},
     "output_type": "execute_result"
    }
   ],
   "source": [
    "data.shape"
   ]
  },
  {
   "cell_type": "markdown",
   "metadata": {
    "id": "aeF-qba9vzFq"
   },
   "source": [
    "#### Label Encoding"
   ]
  },
  {
   "cell_type": "code",
   "execution_count": 30,
   "metadata": {
    "id": "lREVKvI8vzFr"
   },
   "outputs": [],
   "source": [
    "#Convert records Categorical values to numerical values\n",
    "\n",
    "from sklearn.preprocessing import LabelEncoder\n",
    "le=LabelEncoder()\n",
    "for x in data.columns:\n",
    "    data[x]=le.fit_transform(data[x])\n"
   ]
  },
  {
   "cell_type": "code",
   "execution_count": null,
   "metadata": {},
   "outputs": [],
   "source": [
    "CASH_OUT    373641\n",
    "PAYMENT     353873\n",
    "CASH_IN     227130\n",
    "TRANSFER     86753\n",
    "DEBIT         7178"
   ]
  },
  {
   "cell_type": "code",
   "execution_count": 107,
   "metadata": {},
   "outputs": [
    {
     "data": {
      "text/html": [
       "<div>\n",
       "<style scoped>\n",
       "    .dataframe tbody tr th:only-of-type {\n",
       "        vertical-align: middle;\n",
       "    }\n",
       "\n",
       "    .dataframe tbody tr th {\n",
       "        vertical-align: top;\n",
       "    }\n",
       "\n",
       "    .dataframe thead th {\n",
       "        text-align: right;\n",
       "    }\n",
       "</style>\n",
       "<table border=\"1\" class=\"dataframe\">\n",
       "  <thead>\n",
       "    <tr style=\"text-align: right;\">\n",
       "      <th></th>\n",
       "      <th>step</th>\n",
       "      <th>type</th>\n",
       "      <th>amount</th>\n",
       "      <th>sender_OldBal</th>\n",
       "      <th>sender_NewBal</th>\n",
       "      <th>recipient_OldBal</th>\n",
       "      <th>recipient_NewBal</th>\n",
       "      <th>isFraud</th>\n",
       "    </tr>\n",
       "  </thead>\n",
       "  <tbody>\n",
       "    <tr>\n",
       "      <th>9</th>\n",
       "      <td>0</td>\n",
       "      <td>2</td>\n",
       "      <td>116254</td>\n",
       "      <td>71568</td>\n",
       "      <td>88865</td>\n",
       "      <td>32636</td>\n",
       "      <td>18150</td>\n",
       "      <td>0</td>\n",
       "    </tr>\n",
       "    <tr>\n",
       "      <th>10</th>\n",
       "      <td>0</td>\n",
       "      <td>2</td>\n",
       "      <td>196632</td>\n",
       "      <td>9253</td>\n",
       "      <td>0</td>\n",
       "      <td>10031</td>\n",
       "      <td>69895</td>\n",
       "      <td>0</td>\n",
       "    </tr>\n",
       "    <tr>\n",
       "      <th>21</th>\n",
       "      <td>0</td>\n",
       "      <td>2</td>\n",
       "      <td>190854</td>\n",
       "      <td>22807</td>\n",
       "      <td>7367</td>\n",
       "      <td>24600</td>\n",
       "      <td>7676</td>\n",
       "      <td>0</td>\n",
       "    </tr>\n",
       "    <tr>\n",
       "      <th>22</th>\n",
       "      <td>0</td>\n",
       "      <td>2</td>\n",
       "      <td>23334</td>\n",
       "      <td>3899</td>\n",
       "      <td>2980</td>\n",
       "      <td>9370</td>\n",
       "      <td>0</td>\n",
       "      <td>0</td>\n",
       "    </tr>\n",
       "    <tr>\n",
       "      <th>41</th>\n",
       "      <td>0</td>\n",
       "      <td>2</td>\n",
       "      <td>124771</td>\n",
       "      <td>58943</td>\n",
       "      <td>73382</td>\n",
       "      <td>123707</td>\n",
       "      <td>7728</td>\n",
       "      <td>0</td>\n",
       "    </tr>\n",
       "    <tr>\n",
       "      <th>...</th>\n",
       "      <td>...</td>\n",
       "      <td>...</td>\n",
       "      <td>...</td>\n",
       "      <td>...</td>\n",
       "      <td>...</td>\n",
       "      <td>...</td>\n",
       "      <td>...</td>\n",
       "      <td>...</td>\n",
       "    </tr>\n",
       "    <tr>\n",
       "      <th>1048420</th>\n",
       "      <td>94</td>\n",
       "      <td>2</td>\n",
       "      <td>24254</td>\n",
       "      <td>240951</td>\n",
       "      <td>282733</td>\n",
       "      <td>59001</td>\n",
       "      <td>39841</td>\n",
       "      <td>0</td>\n",
       "    </tr>\n",
       "    <tr>\n",
       "      <th>1048453</th>\n",
       "      <td>94</td>\n",
       "      <td>2</td>\n",
       "      <td>177487</td>\n",
       "      <td>73766</td>\n",
       "      <td>86493</td>\n",
       "      <td>83696</td>\n",
       "      <td>62736</td>\n",
       "      <td>0</td>\n",
       "    </tr>\n",
       "    <tr>\n",
       "      <th>1048546</th>\n",
       "      <td>94</td>\n",
       "      <td>2</td>\n",
       "      <td>52272</td>\n",
       "      <td>686</td>\n",
       "      <td>0</td>\n",
       "      <td>290521</td>\n",
       "      <td>216034</td>\n",
       "      <td>0</td>\n",
       "    </tr>\n",
       "    <tr>\n",
       "      <th>1048549</th>\n",
       "      <td>94</td>\n",
       "      <td>2</td>\n",
       "      <td>202137</td>\n",
       "      <td>2196</td>\n",
       "      <td>0</td>\n",
       "      <td>481392</td>\n",
       "      <td>357876</td>\n",
       "      <td>0</td>\n",
       "    </tr>\n",
       "    <tr>\n",
       "      <th>1048561</th>\n",
       "      <td>94</td>\n",
       "      <td>2</td>\n",
       "      <td>165931</td>\n",
       "      <td>57215</td>\n",
       "      <td>67526</td>\n",
       "      <td>589916</td>\n",
       "      <td>436864</td>\n",
       "      <td>0</td>\n",
       "    </tr>\n",
       "  </tbody>\n",
       "</table>\n",
       "<p>7178 rows × 8 columns</p>\n",
       "</div>"
      ],
      "text/plain": [
       "         step  type  amount  sender_OldBal  sender_NewBal  recipient_OldBal  \\\n",
       "9           0     2  116254          71568          88865             32636   \n",
       "10          0     2  196632           9253              0             10031   \n",
       "21          0     2  190854          22807           7367             24600   \n",
       "22          0     2   23334           3899           2980              9370   \n",
       "41          0     2  124771          58943          73382            123707   \n",
       "...       ...   ...     ...            ...            ...               ...   \n",
       "1048420    94     2   24254         240951         282733             59001   \n",
       "1048453    94     2  177487          73766          86493             83696   \n",
       "1048546    94     2   52272            686              0            290521   \n",
       "1048549    94     2  202137           2196              0            481392   \n",
       "1048561    94     2  165931          57215          67526            589916   \n",
       "\n",
       "         recipient_NewBal  isFraud  \n",
       "9                   18150        0  \n",
       "10                  69895        0  \n",
       "21                   7676        0  \n",
       "22                      0        0  \n",
       "41                   7728        0  \n",
       "...                   ...      ...  \n",
       "1048420             39841        0  \n",
       "1048453             62736        0  \n",
       "1048546            216034        0  \n",
       "1048549            357876        0  \n",
       "1048561            436864        0  \n",
       "\n",
       "[7178 rows x 8 columns]"
      ]
     },
     "execution_count": 107,
     "metadata": {},
     "output_type": "execute_result"
    }
   ],
   "source": [
    "name_to_filter = 2\n",
    "\n",
    "# Filter the DataFrame based on the variable name\n",
    "filtered_df = data[data['type'] == name_to_filter]\n",
    "\n",
    "# Print the filtered record\n",
    "filtered_df"
   ]
  },
  {
   "cell_type": "code",
   "execution_count": 31,
   "metadata": {
    "colab": {
     "base_uri": "https://localhost:8080/",
     "height": 206
    },
    "id": "BvHGlQetvzFr",
    "outputId": "155a38ee-8f60-4860-c3eb-5349d04ac70b"
   },
   "outputs": [
    {
     "data": {
      "text/html": [
       "<div>\n",
       "<style scoped>\n",
       "    .dataframe tbody tr th:only-of-type {\n",
       "        vertical-align: middle;\n",
       "    }\n",
       "\n",
       "    .dataframe tbody tr th {\n",
       "        vertical-align: top;\n",
       "    }\n",
       "\n",
       "    .dataframe thead th {\n",
       "        text-align: right;\n",
       "    }\n",
       "</style>\n",
       "<table border=\"1\" class=\"dataframe\">\n",
       "  <thead>\n",
       "    <tr style=\"text-align: right;\">\n",
       "      <th></th>\n",
       "      <th>step</th>\n",
       "      <th>type</th>\n",
       "      <th>amount</th>\n",
       "      <th>sender_OldBal</th>\n",
       "      <th>sender_NewBal</th>\n",
       "      <th>recipient_OldBal</th>\n",
       "      <th>recipient_NewBal</th>\n",
       "      <th>isFraud</th>\n",
       "    </tr>\n",
       "  </thead>\n",
       "  <tbody>\n",
       "    <tr>\n",
       "      <th>0</th>\n",
       "      <td>0</td>\n",
       "      <td>3</td>\n",
       "      <td>199846</td>\n",
       "      <td>177408</td>\n",
       "      <td>196785</td>\n",
       "      <td>0</td>\n",
       "      <td>0</td>\n",
       "      <td>0</td>\n",
       "    </tr>\n",
       "    <tr>\n",
       "      <th>1</th>\n",
       "      <td>0</td>\n",
       "      <td>3</td>\n",
       "      <td>41106</td>\n",
       "      <td>40939</td>\n",
       "      <td>58600</td>\n",
       "      <td>0</td>\n",
       "      <td>0</td>\n",
       "      <td>0</td>\n",
       "    </tr>\n",
       "    <tr>\n",
       "      <th>2</th>\n",
       "      <td>0</td>\n",
       "      <td>4</td>\n",
       "      <td>3977</td>\n",
       "      <td>437</td>\n",
       "      <td>0</td>\n",
       "      <td>0</td>\n",
       "      <td>0</td>\n",
       "      <td>1</td>\n",
       "    </tr>\n",
       "    <tr>\n",
       "      <th>3</th>\n",
       "      <td>0</td>\n",
       "      <td>1</td>\n",
       "      <td>3977</td>\n",
       "      <td>437</td>\n",
       "      <td>0</td>\n",
       "      <td>18649</td>\n",
       "      <td>0</td>\n",
       "      <td>1</td>\n",
       "    </tr>\n",
       "    <tr>\n",
       "      <th>4</th>\n",
       "      <td>0</td>\n",
       "      <td>3</td>\n",
       "      <td>228189</td>\n",
       "      <td>71310</td>\n",
       "      <td>78965</td>\n",
       "      <td>0</td>\n",
       "      <td>0</td>\n",
       "      <td>0</td>\n",
       "    </tr>\n",
       "  </tbody>\n",
       "</table>\n",
       "</div>"
      ],
      "text/plain": [
       "   step  type  amount  sender_OldBal  sender_NewBal  recipient_OldBal  \\\n",
       "0     0     3  199846         177408         196785                 0   \n",
       "1     0     3   41106          40939          58600                 0   \n",
       "2     0     4    3977            437              0                 0   \n",
       "3     0     1    3977            437              0             18649   \n",
       "4     0     3  228189          71310          78965                 0   \n",
       "\n",
       "   recipient_NewBal  isFraud  \n",
       "0                 0        0  \n",
       "1                 0        0  \n",
       "2                 0        1  \n",
       "3                 0        1  \n",
       "4                 0        0  "
      ]
     },
     "execution_count": 31,
     "metadata": {},
     "output_type": "execute_result"
    }
   ],
   "source": [
    "data.head()"
   ]
  },
  {
   "cell_type": "code",
   "execution_count": 32,
   "metadata": {
    "id": "lzSJan4xvzFr"
   },
   "outputs": [],
   "source": [
    "#Create x & y \n",
    "X=data.values[:,:-1]\n",
    "Y=data.values[:,-1]"
   ]
  },
  {
   "cell_type": "code",
   "execution_count": 33,
   "metadata": {
    "colab": {
     "base_uri": "https://localhost:8080/"
    },
    "id": "lvldn7NEvzFr",
    "outputId": "555d675b-293d-41ba-e365-ac183830a2e6"
   },
   "outputs": [
    {
     "name": "stdout",
     "output_type": "stream",
     "text": [
      "(1048575, 7)\n",
      "(1048575,)\n"
     ]
    }
   ],
   "source": [
    "print(X.shape)\n",
    "print(Y.shape)"
   ]
  },
  {
   "cell_type": "markdown",
   "metadata": {
    "id": "d4oadyZavzFr"
   },
   "source": [
    "#### Scaling"
   ]
  },
  {
   "cell_type": "code",
   "execution_count": 34,
   "metadata": {
    "id": "wlJgkesRvzFr"
   },
   "outputs": [],
   "source": [
    "from sklearn.preprocessing import StandardScaler\n",
    "scaler=StandardScaler()\n",
    "scaler.fit(X)\n",
    "X=scaler.transform(X)"
   ]
  },
  {
   "cell_type": "code",
   "execution_count": 35,
   "metadata": {
    "id": "U4Igrz5evzFr"
   },
   "outputs": [],
   "source": [
    "from sklearn.model_selection import train_test_split\n",
    "\n",
    "#split the data into test and train\n",
    "X_train,X_test,Y_train,Y_test=train_test_split(X,Y,test_size=0.3,random_state=10)  "
   ]
  },
  {
   "cell_type": "code",
   "execution_count": 36,
   "metadata": {
    "colab": {
     "base_uri": "https://localhost:8080/"
    },
    "id": "_YggCAxXvzFs",
    "outputId": "11ba1933-9712-422f-fa22-6484701cbd96"
   },
   "outputs": [
    {
     "name": "stdout",
     "output_type": "stream",
     "text": [
      "(734002, 7)\n",
      "(734002,)\n",
      "(314573, 7)\n",
      "(314573,)\n"
     ]
    }
   ],
   "source": [
    "print(X_train.shape)\n",
    "print(Y_train.shape)\n",
    "print(X_test.shape)\n",
    "print(Y_test.shape)"
   ]
  },
  {
   "cell_type": "code",
   "execution_count": null,
   "metadata": {
    "id": "R9pZ0mUNvzFs"
   },
   "outputs": [],
   "source": []
  },
  {
   "cell_type": "markdown",
   "metadata": {
    "id": "krwe-qmxvzFs"
   },
   "source": [
    "### 9.Supervised Learning"
   ]
  },
  {
   "cell_type": "raw",
   "metadata": {
    "id": "h-jvy_pqvzFs"
   },
   "source": [
    "Now we build a model. We start with our data set gradually proceeding with our analysis\n",
    "\n",
    "In order to build a model, we do the following:\n",
    "1. Build the model\n",
    "2. Predict the values\n",
    "3. Compute the accuracy measures\n",
    "4. Tabulate the results"
   ]
  },
  {
   "cell_type": "markdown",
   "metadata": {
    "id": "0t3LN9kQvzFt"
   },
   "source": [
    "#### 9.1. Logistics Regression"
   ]
  },
  {
   "cell_type": "code",
   "execution_count": 37,
   "metadata": {
    "colab": {
     "base_uri": "https://localhost:8080/",
     "height": 74
    },
    "id": "CcXksf_SvzFt",
    "outputId": "63c0cdd5-db89-4cfe-c415-cb0f5d4219f7"
   },
   "outputs": [
    {
     "data": {
      "text/plain": [
       "LogisticRegression(C=1.0, class_weight=None, dual=False, fit_intercept=True,\n",
       "                   intercept_scaling=1, l1_ratio=None, max_iter=100,\n",
       "                   multi_class='auto', n_jobs=None, penalty='l2',\n",
       "                   random_state=None, solver='lbfgs', tol=0.0001, verbose=0,\n",
       "                   warm_start=False)"
      ]
     },
     "execution_count": 37,
     "metadata": {},
     "output_type": "execute_result"
    }
   ],
   "source": [
    "#1. Build the model\n",
    "from sklearn.linear_model import LogisticRegression\n",
    "\n",
    "#create a LogisticRegression\n",
    "classifier=LogisticRegression()\n",
    "\n",
    "#fiiting training data on the model\n",
    "classifier.fit(X_train,Y_train)"
   ]
  },
  {
   "cell_type": "code",
   "execution_count": 38,
   "metadata": {
    "colab": {
     "base_uri": "https://localhost:8080/"
    },
    "id": "sUpIsdZPvzFu",
    "outputId": "73845026-79fa-43da-9b11-6b7de1a4f254"
   },
   "outputs": [
    {
     "name": "stdout",
     "output_type": "stream",
     "text": [
      "Training Accuracy: 0.9993569499810627\n",
      "Testing Accuracy: 0.9993133549287447\n"
     ]
    }
   ],
   "source": [
    "#2. Predict the values\n",
    "from sklearn.metrics import accuracy_score\n",
    "Y_pred_LogReg=classifier.predict(X_test)\n",
    "\n",
    "LogReg_old_training = accuracy_score(Y_train, classifier.predict(X_train))\n",
    "LogReg_old_test = accuracy_score(Y_test, Y_pred_LogReg)\n",
    "print(f'Training Accuracy: {LogReg_old_training}')\n",
    "print(f'Testing Accuracy: {LogReg_old_test}')\n",
    "# print(Y_pred_LogReg)"
   ]
  },
  {
   "cell_type": "markdown",
   "metadata": {
    "id": "uYx62_ZUvzFu"
   },
   "source": [
    "\n",
    "\n",
    "Before we compute the accuracy measures, let us plot the confusion matrix."
   ]
  },
  {
   "cell_type": "code",
   "execution_count": 39,
   "metadata": {
    "colab": {
     "base_uri": "https://localhost:8080/",
     "height": 445
    },
    "id": "pgzWMpWCvzFu",
    "outputId": "ee3239c7-c105-467f-fa58-41e48a30ea8c"
   },
   "outputs": [
    {
     "data": {
      "image/png": "[encoded data removed]",
      "text/plain": [
       "<Figure size 576x360 with 2 Axes>"
      ]
     },
     "metadata": {
      "needs_background": "light"
     },
     "output_type": "display_data"
    }
   ],
   "source": [
    "#3. Compute accuracy measures\n",
    "from sklearn.metrics import confusion_matrix\n",
    "# compute the confusion matrix\n",
    "cm = confusion_matrix(Y_test, Y_pred_LogReg)\n",
    "\n",
    "# label the confusion matrix  \n",
    "conf_matrix = pd.DataFrame(data=cm,columns=['Predicted:0','Predicted:1'],index=['Actual:0','Actual:1'])\n",
    "\n",
    "# set sizeof the plot\n",
    "plt.figure(figsize = (8,5))\n",
    "\n",
    "# plot a heatmap\n",
    "# cmap: colour code used for plotting\n",
    "# annot: prints the correlation values in the chart\n",
    "# annot_kws: sets the font size of the annotation\n",
    "# cbar=False: Whether to draw a colorbar\n",
    "# fmt: string formatting code to use when adding annotations\n",
    "sns.heatmap(conf_matrix, annot=True, fmt='d', cmap=\"Pastel1_r\", cbar=True)\n",
    "plt.show()"
   ]
  },
  {
   "cell_type": "code",
   "execution_count": 40,
   "metadata": {
    "id": "DAQpOtdYvzFu"
   },
   "outputs": [],
   "source": [
    "# True Negatives are denoted by 'TN'\n",
    "# Actual 'O' values which are classified correctly\n",
    "TN = cm[0,0]\n",
    "\n",
    "# True Positives are denoted by 'TP'\n",
    "# Actual '1' values which are classified correctly\n",
    "TP = cm[1,1]\n",
    "\n",
    "# False Negatives are denoted by 'FN'\n",
    "# Actual '1' values which are classified wrongly as '0'\n",
    "FN = cm[1,0]\n",
    "\n",
    "# False Positives are denoted by 'FP'\n",
    "# Actual 'O' values which are classified wrongly as '1'\n",
    "FP = cm[0,1]     "
   ]
  },
  {
   "cell_type": "code",
   "execution_count": 41,
   "metadata": {
    "colab": {
     "base_uri": "https://localhost:8080/"
    },
    "id": "xcinNJxEvzFv",
    "outputId": "3c900724-5ada-45bd-8f16-a4dd90b72415"
   },
   "outputs": [
    {
     "name": "stdout",
     "output_type": "stream",
     "text": [
      "              precision    recall  f1-score   support\n",
      "\n",
      "           0       1.00      1.00      1.00    314216\n",
      "           1       0.95      0.41      0.58       357\n",
      "\n",
      "    accuracy                           1.00    314573\n",
      "   macro avg       0.98      0.71      0.79    314573\n",
      "weighted avg       1.00      1.00      1.00    314573\n",
      "\n",
      "Accuracy of the model:  0.9993133549287447\n"
     ]
    }
   ],
   "source": [
    "from sklearn.metrics import classification_report,accuracy_score\n",
    "\n",
    "# accuracy measures by classification_report()\n",
    "result = classification_report(Y_test,Y_pred_LogReg)\n",
    "\n",
    "# print the result\n",
    "print(result)\n",
    "\n",
    "acc_logreg=accuracy_score(Y_test, Y_pred_LogReg)\n",
    "print(\"Accuracy of the model: \",acc_logreg)"
   ]
  },
  {
   "cell_type": "code",
   "execution_count": 42,
   "metadata": {
    "colab": {
     "base_uri": "https://localhost:8080/",
     "height": 470
    },
    "id": "h3wapy6rvzFv",
    "outputId": "ebea5c42-80b7-435c-cfc5-5fcf22fc35ee"
   },
   "outputs": [
    {
     "data": {
      "image/png": "[encoded data removed]",
      "text/plain": [
       "<Figure size 576x360 with 1 Axes>"
      ]
     },
     "metadata": {
      "needs_background": "light"
     },
     "output_type": "display_data"
    }
   ],
   "source": [
    "from sklearn.metrics import roc_curve\n",
    "from sklearn.metrics import roc_auc_score\n",
    "# set the figure size\n",
    "plt.rcParams['figure.figsize']=(8,5)\n",
    "\n",
    "fpr, tpr, thresholds = roc_curve(Y_test, Y_pred_LogReg)\n",
    "\n",
    "# plot the ROC curve\n",
    "plt.plot(fpr,tpr)\n",
    "\n",
    "# set limits for x and y axes\n",
    "plt.xlim([0.0, 1.0])\n",
    "plt.ylim([0.0, 1.0])\n",
    "\n",
    "# plot the straight line showing worst prediction for the model\n",
    "plt.plot([0, 1], [0, 1],'r--')\n",
    "\n",
    "# add the AUC score\n",
    "plt.text(x = 0.05, y = 0.8, s =('AUC Score:', round(roc_auc_score(Y_test, Y_pred_LogReg),4)))\n",
    "\n",
    "# name the plot, and both axes\n",
    "plt.xlabel('False positive rate (1-Specificity)')\n",
    "plt.ylabel('True positive rate (Sensitivity)')\n",
    "\n",
    "# plot the grid\n",
    "plt.grid(True)"
   ]
  },
  {
   "cell_type": "markdown",
   "metadata": {
    "id": "JjmuWcjdvzFv"
   },
   "source": [
    "Doubbtds op"
   ]
  },
  {
   "cell_type": "raw",
   "metadata": {
    "id": "E7RlzfU-vzFv"
   },
   "source": [
    "The dotted line represents the ROC curve of a purely random classifier; a good classifier stays as far away from that line as possible (toward the top-left corner)\n",
    "\n",
    "We see our classifier is away from the dotted line; which means the meta-estimator model is a good classifier"
   ]
  },
  {
   "cell_type": "code",
   "execution_count": 43,
   "metadata": {
    "colab": {
     "base_uri": "https://localhost:8080/",
     "height": 81
    },
    "id": "h12EqjDuvzFv",
    "outputId": "6259a1f8-3ce4-4821-cc64-f770acc80da4"
   },
   "outputs": [
    {
     "data": {
      "text/html": [
       "<div>\n",
       "<style scoped>\n",
       "    .dataframe tbody tr th:only-of-type {\n",
       "        vertical-align: middle;\n",
       "    }\n",
       "\n",
       "    .dataframe tbody tr th {\n",
       "        vertical-align: top;\n",
       "    }\n",
       "\n",
       "    .dataframe thead th {\n",
       "        text-align: right;\n",
       "    }\n",
       "</style>\n",
       "<table border=\"1\" class=\"dataframe\">\n",
       "  <thead>\n",
       "    <tr style=\"text-align: right;\">\n",
       "      <th></th>\n",
       "      <th>Model</th>\n",
       "      <th>AUC Score</th>\n",
       "      <th>Precision Score</th>\n",
       "      <th>Recall Score</th>\n",
       "      <th>Accuracy Score</th>\n",
       "      <th>f1-score</th>\n",
       "    </tr>\n",
       "  </thead>\n",
       "  <tbody>\n",
       "    <tr>\n",
       "      <th>0</th>\n",
       "      <td>Logistic Regression</td>\n",
       "      <td>0.707272</td>\n",
       "      <td>0.954839</td>\n",
       "      <td>0.414566</td>\n",
       "      <td>0.999313</td>\n",
       "      <td>0.578125</td>\n",
       "    </tr>\n",
       "  </tbody>\n",
       "</table>\n",
       "</div>"
      ],
      "text/plain": [
       "                 Model  AUC Score  Precision Score  Recall Score  \\\n",
       "0  Logistic Regression   0.707272         0.954839      0.414566   \n",
       "\n",
       "   Accuracy Score  f1-score  \n",
       "0        0.999313  0.578125  "
      ]
     },
     "execution_count": 43,
     "metadata": {},
     "output_type": "execute_result"
    }
   ],
   "source": [
    "#4. Tabulate the results\n",
    "\n",
    "from sklearn import metrics\n",
    "# create the result table for all accuracy scores\n",
    "# Accuracy measures considered for model comparision are 'Model', 'AUC Score', 'Precision Score', 'Recall Score','Accuracy Score','Kappa Score', 'f1 - score'\n",
    "\n",
    "# create a list of column names\n",
    "cols = ['Model', 'AUC Score', 'Precision Score', 'Recall Score','Accuracy Score','f1-score']\n",
    "\n",
    "# creating an empty dataframe of the colums\n",
    "result_tabulation = pd.DataFrame(columns = cols)\n",
    "\n",
    "# compiling the required information\n",
    "Bagging_Meta_estimator = pd.Series({'Model': \"Logistic Regression\",\n",
    "                     'AUC Score' : metrics.roc_auc_score(Y_test, Y_pred_LogReg),\n",
    "\n",
    "                      'Precision Score': metrics.precision_score(Y_test, Y_pred_LogReg),\n",
    "                      'Recall Score': metrics.recall_score(Y_test, Y_pred_LogReg),\n",
    "                      'Accuracy Score': metrics.accuracy_score(Y_test, Y_pred_LogReg),\n",
    "                      'f1-score':metrics.f1_score(Y_test, Y_pred_LogReg)})\n",
    "\n",
    "\n",
    "\n",
    "# appending our result table\n",
    "result_tabulation = result_tabulation.append(Bagging_Meta_estimator , ignore_index = True)\n",
    "\n",
    "# view the result table\n",
    "result_tabulation"
   ]
  },
  {
   "cell_type": "code",
   "execution_count": null,
   "metadata": {
    "id": "-mPpmA80vzFw"
   },
   "outputs": [],
   "source": []
  },
  {
   "cell_type": "markdown",
   "metadata": {
    "id": "MigbbUxKvzFw"
   },
   "source": [
    "#### 9.2. AdaBoost"
   ]
  },
  {
   "cell_type": "raw",
   "metadata": {
    "id": "GFkHVwMlvzFw"
   },
   "source": [
    "Now we build a ensemble model using AdaBoost. We start with our data set gradually proceeding with our analysis\n",
    "\n",
    "In order to build a model using AdaBoost, we do the following:\n",
    "1. Build the model\n",
    "2. Predict the values\n",
    "3. Compute the accuracy measures\n",
    "4. Tabulate the results"
   ]
  },
  {
   "cell_type": "code",
   "execution_count": 44,
   "metadata": {
    "id": "2y0O9L-1AW20"
   },
   "outputs": [],
   "source": [
    "# @QQQWhats the reason of using adaboost after decison tree"
   ]
  },
  {
   "cell_type": "code",
   "execution_count": 45,
   "metadata": {
    "colab": {
     "base_uri": "https://localhost:8080/",
     "height": 74
    },
    "id": "O5UiwzIavzFw",
    "outputId": "4d26e84b-8b65-4629-d3eb-8bf917a99157"
   },
   "outputs": [
    {
     "data": {
      "text/plain": [
       "AdaBoostClassifier(algorithm='SAMME.R', base_estimator=None, learning_rate=1.0,\n",
       "                   n_estimators=50, random_state=10)"
      ]
     },
     "execution_count": 45,
     "metadata": {},
     "output_type": "execute_result"
    }
   ],
   "source": [
    "# 1.Build Model\n",
    "\n",
    "from sklearn.ensemble import AdaBoostClassifier\n",
    "\n",
    "# build the model\n",
    "adaboost = AdaBoostClassifier(random_state=10)\n",
    "# fit the model\n",
    "adaboost.fit(X_train, Y_train)\n"
   ]
  },
  {
   "cell_type": "code",
   "execution_count": 46,
   "metadata": {
    "colab": {
     "base_uri": "https://localhost:8080/"
    },
    "id": "Vzjta2_7vzFw",
    "outputId": "f9ce196b-94cb-4cc3-df48-1b77c1208ac5"
   },
   "outputs": [
    {
     "name": "stdout",
     "output_type": "stream",
     "text": [
      "Training Accuracy: 0.9993569499810627\n",
      "Testing Accuracy: 0.9993260705782123\n"
     ]
    }
   ],
   "source": [
    "# 2.predict the values\n",
    "Y_pred_adaboost  = adaboost.predict(X_test)\n",
    "\n",
    "Adaboost_old_training = accuracy_score(Y_train, classifier.predict(X_train))\n",
    "Adaboost_old_test = accuracy_score(Y_test, Y_pred_adaboost)\n",
    "print(f'Training Accuracy: {Adaboost_old_training}')\n",
    "print(f'Testing Accuracy: {Adaboost_old_test}')"
   ]
  },
  {
   "cell_type": "code",
   "execution_count": 47,
   "metadata": {
    "colab": {
     "base_uri": "https://localhost:8080/",
     "height": 445
    },
    "id": "BXMUfhL1vzFw",
    "outputId": "34d621b5-cc8d-42c6-f283-543cc8ae733e"
   },
   "outputs": [
    {
     "data": {
      "image/png": "[encoded data removed]",
      "text/plain": [
       "<Figure size 576x360 with 2 Axes>"
      ]
     },
     "metadata": {
      "needs_background": "light"
     },
     "output_type": "display_data"
    }
   ],
   "source": [
    "#3. Compute accuracy measures\n",
    "\n",
    "# compute the confusion matrix\n",
    "cm = confusion_matrix(Y_test, Y_pred_adaboost)\n",
    "\n",
    "# label the confusion matrix  \n",
    "conf_matrix = pd.DataFrame(data=cm,columns=['Predicted:0','Predicted:1'],index=['Actual:0','Actual:1'])\n",
    "\n",
    "# set sizeof the plot\n",
    "plt.figure(figsize = (8,5))\n",
    "\n",
    "# plot a heatmap\n",
    "# cmap: colour code used for plotting\n",
    "# annot: prints the correlation values in the chart\n",
    "# annot_kws: sets the font size of the annotation\n",
    "# cbar=False: Whether to draw a colorbar\n",
    "# fmt: string formatting code to use when adding annotations\n",
    "sns.heatmap(conf_matrix, annot=True, fmt='d', cmap=\"Pastel1_r\", cbar=True)\n",
    "plt.show()"
   ]
  },
  {
   "cell_type": "code",
   "execution_count": 48,
   "metadata": {
    "id": "dp0KctRnvzFx"
   },
   "outputs": [],
   "source": [
    "# True Negatives are denoted by 'TN'\n",
    "# Actual 'O' values which are classified correctly\n",
    "TN = cm[0,0]\n",
    "\n",
    "# True Positives are denoted by 'TP'\n",
    "# Actual '1' values which are classified correctly\n",
    "TP = cm[1,1]\n",
    "\n",
    "# False Negatives are denoted by 'FN'\n",
    "# Actual '1' values which are classified wrongly as '0'\n",
    "FN = cm[1,0]\n",
    "\n",
    "# False Positives are denoted by 'FP'\n",
    "# Actual 'O' values which are classified wrongly as '1'\n",
    "FP = cm[0,1]   "
   ]
  },
  {
   "cell_type": "code",
   "execution_count": 49,
   "metadata": {
    "colab": {
     "base_uri": "https://localhost:8080/"
    },
    "id": "JZbxlpSOvzFx",
    "outputId": "8c435216-33fa-48b2-ed4f-7b9594dcb437"
   },
   "outputs": [
    {
     "name": "stdout",
     "output_type": "stream",
     "text": [
      "              precision    recall  f1-score   support\n",
      "\n",
      "           0       1.00      1.00      1.00    314216\n",
      "           1       0.90      0.46      0.61       357\n",
      "\n",
      "    accuracy                           1.00    314573\n",
      "   macro avg       0.95      0.73      0.80    314573\n",
      "weighted avg       1.00      1.00      1.00    314573\n",
      "\n",
      "Accuracy of the model:  0.9993260705782123\n"
     ]
    }
   ],
   "source": [
    "# accuracy measures by classification_report()\n",
    "result = classification_report(Y_test, Y_pred_adaboost)\n",
    "\n",
    "# print the result\n",
    "print(result)\n",
    "\n",
    "acc_ada=accuracy_score(Y_test, Y_pred_adaboost)\n",
    "print(\"Accuracy of the model: \",acc_ada)"
   ]
  },
  {
   "cell_type": "code",
   "execution_count": 50,
   "metadata": {
    "colab": {
     "base_uri": "https://localhost:8080/",
     "height": 470
    },
    "id": "MWcj7H_uvzFx",
    "outputId": "cdbdd9d4-4458-4819-c9c9-2595da91055d"
   },
   "outputs": [
    {
     "data": {
      "image/png": "[encoded data removed]",
      "text/plain": [
       "<Figure size 576x360 with 1 Axes>"
      ]
     },
     "metadata": {
      "needs_background": "light"
     },
     "output_type": "display_data"
    }
   ],
   "source": [
    "# set the figure size\n",
    "plt.rcParams['figure.figsize']=(8,5)\n",
    "\n",
    "fpr, tpr, thresholds = roc_curve(Y_test, Y_pred_adaboost)\n",
    "\n",
    "# plot the ROC curve\n",
    "plt.plot(fpr,tpr)\n",
    "\n",
    "# set limits for x and y axes\n",
    "plt.xlim([0.0, 1.0])\n",
    "plt.ylim([0.0, 1.0])\n",
    "\n",
    "# plot the straight line showing worst prediction for the model\n",
    "plt.plot([0, 1], [0, 1],'r--')\n",
    "\n",
    "# add the AUC score\n",
    "plt.text(x = 0.05, y = 0.8, s =('AUC Score:', round(metrics.roc_auc_score(Y_test, Y_pred_adaboost),4)))\n",
    "\n",
    "# name the plot, and both axes\n",
    "plt.xlabel('False positive rate (1-Specificity)')\n",
    "plt.ylabel('True positive rate (Sensitivity)')\n",
    "\n",
    "# plot the grid\n",
    "plt.grid(True)"
   ]
  },
  {
   "cell_type": "code",
   "execution_count": null,
   "metadata": {
    "id": "5nmvb071vzFx"
   },
   "outputs": [],
   "source": []
  },
  {
   "cell_type": "code",
   "execution_count": 51,
   "metadata": {
    "id": "ZZLT3twZvzFx"
   },
   "outputs": [],
   "source": [
    "#4. Tabulate the results"
   ]
  },
  {
   "cell_type": "code",
   "execution_count": 52,
   "metadata": {
    "colab": {
     "base_uri": "https://localhost:8080/",
     "height": 112
    },
    "id": "t5R5ivcMvzFx",
    "outputId": "39ffccbb-fc02-4207-a2e1-62781addd809"
   },
   "outputs": [
    {
     "data": {
      "text/html": [
       "<div>\n",
       "<style scoped>\n",
       "    .dataframe tbody tr th:only-of-type {\n",
       "        vertical-align: middle;\n",
       "    }\n",
       "\n",
       "    .dataframe tbody tr th {\n",
       "        vertical-align: top;\n",
       "    }\n",
       "\n",
       "    .dataframe thead th {\n",
       "        text-align: right;\n",
       "    }\n",
       "</style>\n",
       "<table border=\"1\" class=\"dataframe\">\n",
       "  <thead>\n",
       "    <tr style=\"text-align: right;\">\n",
       "      <th></th>\n",
       "      <th>Model</th>\n",
       "      <th>AUC Score</th>\n",
       "      <th>Precision Score</th>\n",
       "      <th>Recall Score</th>\n",
       "      <th>Accuracy Score</th>\n",
       "      <th>f1-score</th>\n",
       "    </tr>\n",
       "  </thead>\n",
       "  <tbody>\n",
       "    <tr>\n",
       "      <th>0</th>\n",
       "      <td>Logistic Regression</td>\n",
       "      <td>0.707272</td>\n",
       "      <td>0.954839</td>\n",
       "      <td>0.414566</td>\n",
       "      <td>0.999313</td>\n",
       "      <td>0.578125</td>\n",
       "    </tr>\n",
       "    <tr>\n",
       "      <th>1</th>\n",
       "      <td>AdaBoost</td>\n",
       "      <td>0.728263</td>\n",
       "      <td>0.900552</td>\n",
       "      <td>0.456583</td>\n",
       "      <td>0.999326</td>\n",
       "      <td>0.605948</td>\n",
       "    </tr>\n",
       "  </tbody>\n",
       "</table>\n",
       "</div>"
      ],
      "text/plain": [
       "                 Model  AUC Score  Precision Score  Recall Score  \\\n",
       "0  Logistic Regression   0.707272         0.954839      0.414566   \n",
       "1             AdaBoost   0.728263         0.900552      0.456583   \n",
       "\n",
       "   Accuracy Score  f1-score  \n",
       "0        0.999313  0.578125  \n",
       "1        0.999326  0.605948  "
      ]
     },
     "execution_count": 52,
     "metadata": {},
     "output_type": "execute_result"
    }
   ],
   "source": [
    "# create the result table for all accuracy scores\n",
    "# Accuracy measures considered for model comparision are 'Model', 'AUC Score', 'Precision Score', 'Recall Score','Accuracy Score','Kappa Score', 'f1 - score'\n",
    "\n",
    "# create a list of column names\n",
    "\n",
    "\n",
    "# compiling the required information\n",
    "adaboost_metrics = pd.Series({'Model': \"AdaBoost\",\n",
    "                     'AUC Score' : metrics.roc_auc_score(Y_test, Y_pred_adaboost),\n",
    "                     \n",
    "                      'Precision Score': metrics.precision_score(Y_test, Y_pred_adaboost),\n",
    "                      'Recall Score': metrics.recall_score(Y_test, Y_pred_adaboost),\n",
    "                      'Accuracy Score': metrics.accuracy_score(Y_test, Y_pred_adaboost),\n",
    "                      'f1-score':metrics.f1_score(Y_test, Y_pred_adaboost)})\n",
    "\n",
    "\n",
    "\n",
    "# appending our result table\n",
    "result_tabulation = result_tabulation.append(adaboost_metrics , ignore_index = True)\n",
    "\n",
    "# view the result table\n",
    "result_tabulation\n",
    "\n"
   ]
  },
  {
   "cell_type": "code",
   "execution_count": null,
   "metadata": {
    "id": "OVNJq4uHvzFz"
   },
   "outputs": [],
   "source": []
  },
  {
   "cell_type": "markdown",
   "metadata": {
    "id": "oTooMhTSvzFz"
   },
   "source": [
    "#### 9.3.Decison Tress"
   ]
  },
  {
   "cell_type": "raw",
   "metadata": {
    "id": "XzROVgGGvzF0"
   },
   "source": [
    "Now we build a model. We start with our original data set gradually proceeding with our analysis\n",
    "\n",
    "In order to build a model, we do the following:\n",
    "1. Build the model\n",
    "2. Predict the values\n",
    "3. Compute the accuracy measures\n",
    "4. Tabulate the results"
   ]
  },
  {
   "cell_type": "code",
   "execution_count": 53,
   "metadata": {
    "colab": {
     "base_uri": "https://localhost:8080/",
     "height": 74
    },
    "id": "nrPAYAXKvzF0",
    "outputId": "d2f97c53-de9c-4b83-ff93-7c423e1010e1"
   },
   "outputs": [
    {
     "data": {
      "text/plain": [
       "DecisionTreeClassifier(ccp_alpha=0.0, class_weight=None, criterion='gini',\n",
       "                       max_depth=None, max_features=None, max_leaf_nodes=None,\n",
       "                       min_impurity_decrease=0.0, min_impurity_split=None,\n",
       "                       min_samples_leaf=1, min_samples_split=2,\n",
       "                       min_weight_fraction_leaf=0.0, presort='deprecated',\n",
       "                       random_state=10, splitter='best')"
      ]
     },
     "execution_count": 53,
     "metadata": {},
     "output_type": "execute_result"
    }
   ],
   "source": [
    "#1.Build The model\n",
    "\n",
    "from sklearn.tree import DecisionTreeClassifier\n",
    "\n",
    "\n",
    "model_DecisionTree=DecisionTreeClassifier(criterion='gini',\n",
    "                                         random_state=10)  #,splitter=\"best\",min_samples_leaf=3,min_samples_split=6 #random_state\n",
    "\n",
    "#fit the model on the data and predict the values\n",
    "model_DecisionTree.fit(X_train,Y_train)"
   ]
  },
  {
   "cell_type": "code",
   "execution_count": 54,
   "metadata": {
    "colab": {
     "base_uri": "https://localhost:8080/"
    },
    "id": "6gLFTiZavzF0",
    "outputId": "f2cc0249-cc3d-48bb-a95e-84993cd60c3b"
   },
   "outputs": [
    {
     "name": "stdout",
     "output_type": "stream",
     "text": [
      "Training Accuracy: 1.0\n",
      "Testing Accuracy: 0.9995803835675662\n"
     ]
    }
   ],
   "source": [
    "#2. Predict the values for the test set\n",
    "\n",
    "Y_pred_DT=model_DecisionTree.predict(X_test)\n",
    "\n",
    "DT_old_training = accuracy_score(Y_train, model_DecisionTree.predict(X_train))\n",
    "DT_old_test = accuracy_score(Y_test, Y_pred_DT)\n",
    "print(f'Training Accuracy: {DT_old_training}')\n",
    "print(f'Testing Accuracy: {DT_old_test}')\n"
   ]
  },
  {
   "cell_type": "code",
   "execution_count": 55,
   "metadata": {
    "colab": {
     "base_uri": "https://localhost:8080/",
     "height": 445
    },
    "id": "Mbc8waoovzF0",
    "outputId": "305629bf-793d-4f1e-a81e-8a68d3c2b58a"
   },
   "outputs": [
    {
     "data": {
      "image/png": "[encoded data removed]",
      "text/plain": [
       "<Figure size 576x360 with 2 Axes>"
      ]
     },
     "metadata": {
      "needs_background": "light"
     },
     "output_type": "display_data"
    }
   ],
   "source": [
    "#3. Compute accuracy measures\n",
    "# compute the confusion matrix\n",
    "cm = confusion_matrix(Y_test, Y_pred_DT)\n",
    "\n",
    "# label the confusion matrix  \n",
    "conf_matrix = pd.DataFrame(data=cm,columns=['Predicted:0','Predicted:1'],index=['Actual:0','Actual:1'])\n",
    "\n",
    "# set sizeof the plot\n",
    "plt.figure(figsize = (8,5))\n",
    "\n",
    "# plot a heatmap\n",
    "# cmap: colour code used for plotting\n",
    "# annot: prints the correlation values in the chart\n",
    "# annot_kws: sets the font size of the annotation\n",
    "# cbar=False: Whether to draw a colorbar\n",
    "# fmt: string formatting code to use when adding annotations\n",
    "sns.heatmap(conf_matrix, annot=True, fmt='d', cmap=\"Pastel1_r\", cbar=True)\n",
    "plt.show()"
   ]
  },
  {
   "cell_type": "code",
   "execution_count": 56,
   "metadata": {
    "id": "4jQ4D5CrvzF0"
   },
   "outputs": [],
   "source": [
    "# True Negatives are denoted by 'TN'\n",
    "# Actual 'O' values which are classified correctly\n",
    "TN = cm[0,0]\n",
    "\n",
    "# True Positives are denoted by 'TP'\n",
    "# Actual '1' values which are classified correctly\n",
    "TP = cm[1,1]\n",
    "\n",
    "# False Negatives are denoted by 'FN'\n",
    "# Actual '1' values which are classified wrongly as '0'\n",
    "FN = cm[1,0]\n",
    "\n",
    "# False Positives are denoted by 'FP'\n",
    "# Actual 'O' values which are classified wrongly as '1'\n",
    "FP = cm[0,1]               "
   ]
  },
  {
   "cell_type": "code",
   "execution_count": 57,
   "metadata": {
    "colab": {
     "base_uri": "https://localhost:8080/"
    },
    "id": "a0Q-zdMXvzF0",
    "outputId": "18a678ff-9280-4ab9-ee38-79abdf3d4f16"
   },
   "outputs": [
    {
     "name": "stdout",
     "output_type": "stream",
     "text": [
      "              precision    recall  f1-score   support\n",
      "\n",
      "           0       1.00      1.00      1.00    314216\n",
      "           1       0.82      0.80      0.81       357\n",
      "\n",
      "    accuracy                           1.00    314573\n",
      "   macro avg       0.91      0.90      0.91    314573\n",
      "weighted avg       1.00      1.00      1.00    314573\n",
      "\n",
      "Accuracy of the model:  0.9995803835675662\n"
     ]
    }
   ],
   "source": [
    "# accuracy measures by classification_report()\n",
    "result = classification_report(Y_test,Y_pred_DT)\n",
    "\n",
    "# print the result\n",
    "print(result)\n",
    "\n",
    "acc_DT=accuracy_score(Y_test, Y_pred_DT)\n",
    "print(\"Accuracy of the model: \",acc_DT)"
   ]
  },
  {
   "cell_type": "code",
   "execution_count": 58,
   "metadata": {
    "colab": {
     "base_uri": "https://localhost:8080/",
     "height": 470
    },
    "id": "1SGPrBsDvzF1",
    "outputId": "b539270a-56c0-4625-f35e-eb5ecb593e1b"
   },
   "outputs": [
    {
     "data": {
      "image/png": "[encoded data removed]",
      "text/plain": [
       "<Figure size 576x360 with 1 Axes>"
      ]
     },
     "metadata": {
      "needs_background": "light"
     },
     "output_type": "display_data"
    }
   ],
   "source": [
    "# set the figure size\n",
    "plt.rcParams['figure.figsize']=(8,5)\n",
    "\n",
    "fpr, tpr, thresholds = roc_curve(Y_test, Y_pred_DT)\n",
    "\n",
    "# plot the ROC curve\n",
    "plt.plot(fpr,tpr)\n",
    "\n",
    "# set limits for x and y axes\n",
    "plt.xlim([0.0, 1.0])\n",
    "plt.ylim([0.0, 1.0])\n",
    "\n",
    "# plot the straight line showing worst prediction for the model\n",
    "plt.plot([0, 1], [0, 1],'r--')\n",
    "\n",
    "# add the AUC score\n",
    "plt.text(x = 0.05, y = 0.8, s =('AUC Score:', round(metrics.roc_auc_score(Y_test, Y_pred_DT),4)))\n",
    "\n",
    "# name the plot, and both axes\n",
    "plt.xlabel('False positive rate (1-Specificity)')\n",
    "plt.ylabel('True positive rate (Sensitivity)')\n",
    "\n",
    "# plot the grid\n",
    "plt.grid(True)"
   ]
  },
  {
   "cell_type": "code",
   "execution_count": 59,
   "metadata": {
    "colab": {
     "base_uri": "https://localhost:8080/",
     "height": 143
    },
    "id": "afdyJuE9vzF1",
    "outputId": "cf02864d-b8ce-417b-a2aa-1784adfa5296"
   },
   "outputs": [
    {
     "data": {
      "text/html": [
       "<div>\n",
       "<style scoped>\n",
       "    .dataframe tbody tr th:only-of-type {\n",
       "        vertical-align: middle;\n",
       "    }\n",
       "\n",
       "    .dataframe tbody tr th {\n",
       "        vertical-align: top;\n",
       "    }\n",
       "\n",
       "    .dataframe thead th {\n",
       "        text-align: right;\n",
       "    }\n",
       "</style>\n",
       "<table border=\"1\" class=\"dataframe\">\n",
       "  <thead>\n",
       "    <tr style=\"text-align: right;\">\n",
       "      <th></th>\n",
       "      <th>Model</th>\n",
       "      <th>AUC Score</th>\n",
       "      <th>Precision Score</th>\n",
       "      <th>Recall Score</th>\n",
       "      <th>Accuracy Score</th>\n",
       "      <th>f1-score</th>\n",
       "    </tr>\n",
       "  </thead>\n",
       "  <tbody>\n",
       "    <tr>\n",
       "      <th>0</th>\n",
       "      <td>Logistic Regression</td>\n",
       "      <td>0.707272</td>\n",
       "      <td>0.954839</td>\n",
       "      <td>0.414566</td>\n",
       "      <td>0.999313</td>\n",
       "      <td>0.578125</td>\n",
       "    </tr>\n",
       "    <tr>\n",
       "      <th>1</th>\n",
       "      <td>AdaBoost</td>\n",
       "      <td>0.728263</td>\n",
       "      <td>0.900552</td>\n",
       "      <td>0.456583</td>\n",
       "      <td>0.999326</td>\n",
       "      <td>0.605948</td>\n",
       "    </tr>\n",
       "    <tr>\n",
       "      <th>2</th>\n",
       "      <td>Decision Tree</td>\n",
       "      <td>0.901862</td>\n",
       "      <td>0.822350</td>\n",
       "      <td>0.803922</td>\n",
       "      <td>0.999580</td>\n",
       "      <td>0.813031</td>\n",
       "    </tr>\n",
       "  </tbody>\n",
       "</table>\n",
       "</div>"
      ],
      "text/plain": [
       "                 Model  AUC Score  Precision Score  Recall Score  \\\n",
       "0  Logistic Regression   0.707272         0.954839      0.414566   \n",
       "1             AdaBoost   0.728263         0.900552      0.456583   \n",
       "2        Decision Tree   0.901862         0.822350      0.803922   \n",
       "\n",
       "   Accuracy Score  f1-score  \n",
       "0        0.999313  0.578125  \n",
       "1        0.999326  0.605948  \n",
       "2        0.999580  0.813031  "
      ]
     },
     "execution_count": 59,
     "metadata": {},
     "output_type": "execute_result"
    }
   ],
   "source": [
    "# 4.Tabulate the results\n",
    "\n",
    "# create the result table for all accuracy scores\n",
    "# Accuracy measures considered for model comparision are 'Model', 'AUC Score', 'Precision Score', 'Recall Score','Accuracy Score','Kappa Score', 'f1 - score'\n",
    "\n",
    "# create a list of column names\n",
    "\n",
    "\n",
    "# compiling the required information\n",
    "DT_metrices = pd.Series({'Model': \"Decision Tree\",\n",
    "                     'AUC Score' : metrics.roc_auc_score(Y_test, Y_pred_DT),\n",
    "                 'Precision Score': metrics.precision_score(Y_test, Y_pred_DT),\n",
    "                 'Recall Score': metrics.recall_score(Y_test, Y_pred_DT),\n",
    "                 'Accuracy Score': metrics.accuracy_score(Y_test, Y_pred_DT),\n",
    "\n",
    "                  'f1-score':metrics.f1_score(Y_test, Y_pred_DT)})\n",
    "\n",
    "\n",
    "\n",
    "# appending our result table\n",
    "result_tabulation = result_tabulation.append(DT_metrices , ignore_index = True)\n",
    "\n",
    "# view the result table\n",
    "result_tabulation"
   ]
  },
  {
   "cell_type": "code",
   "execution_count": null,
   "metadata": {
    "id": "Hf4KlREWvzF1"
   },
   "outputs": [],
   "source": []
  },
  {
   "cell_type": "markdown",
   "metadata": {
    "id": "FxzC_tCCvzF1"
   },
   "source": [
    "#### 9.4.RandomForest"
   ]
  },
  {
   "cell_type": "code",
   "execution_count": 60,
   "metadata": {
    "colab": {
     "base_uri": "https://localhost:8080/",
     "height": 74
    },
    "id": "yNeCHHk5vzF1",
    "outputId": "6b756f3b-a4f7-488c-fcce-263667a91426"
   },
   "outputs": [
    {
     "data": {
      "text/plain": [
       "RandomForestClassifier(bootstrap=True, ccp_alpha=0.0, class_weight=None,\n",
       "                       criterion='gini', max_depth=None, max_features=0.6,\n",
       "                       max_leaf_nodes=None, max_samples=None,\n",
       "                       min_impurity_decrease=0.0, min_impurity_split=None,\n",
       "                       min_samples_leaf=1, min_samples_split=2,\n",
       "                       min_weight_fraction_leaf=0.0, n_estimators=100,\n",
       "                       n_jobs=None, oob_score=False, random_state=10, verbose=0,\n",
       "                       warm_start=False)"
      ]
     },
     "execution_count": 60,
     "metadata": {},
     "output_type": "execute_result"
    }
   ],
   "source": [
    "#1.Build model\n",
    "from sklearn.ensemble import RandomForestClassifier\n",
    "\n",
    "model_RandomForest=RandomForestClassifier(n_estimators=100,random_state=10,bootstrap=True,    #true is default\n",
    "                                         max_features=0.6)    #100 bags=100DT(def 100),false but without replacement,4 var max_fe\n",
    "\n",
    "#fit the model on the data and predict the values\n",
    "model_RandomForest.fit(X_train,Y_train)\n"
   ]
  },
  {
   "cell_type": "code",
   "execution_count": 61,
   "metadata": {
    "colab": {
     "base_uri": "https://localhost:8080/"
    },
    "id": "EakIBDqgvzF1",
    "outputId": "343c514c-58b1-4616-fc29-b81d51003851"
   },
   "outputs": [
    {
     "name": "stdout",
     "output_type": "stream",
     "text": [
      "Training Accuracy: 1.0\n",
      "Testing Accuracy: 0.9997584026601138\n"
     ]
    }
   ],
   "source": [
    "#2. Predict the values for the test set\n",
    "Y_pred_RF=model_RandomForest.predict(X_test)\n",
    "\n",
    "RF_old_training = accuracy_score(Y_train, model_RandomForest.predict(X_train))\n",
    "RF_old_test = accuracy_score(Y_test, Y_pred_RF)\n",
    "print(f'Training Accuracy: {RF_old_training}')\n",
    "print(f'Testing Accuracy: {RF_old_test}')"
   ]
  },
  {
   "cell_type": "code",
   "execution_count": 62,
   "metadata": {
    "colab": {
     "base_uri": "https://localhost:8080/",
     "height": 445
    },
    "id": "qi_ARQn1vzF1",
    "outputId": "3632054f-9730-49e4-ffee-9b36ddf90f66"
   },
   "outputs": [
    {
     "data": {
      "image/png": "[encoded data removed]",
      "text/plain": [
       "<Figure size 576x360 with 2 Axes>"
      ]
     },
     "metadata": {
      "needs_background": "light"
     },
     "output_type": "display_data"
    }
   ],
   "source": [
    "#3. Compute accuracy measures\n",
    "# compute the confusion matrix\n",
    "cm = confusion_matrix(Y_test, Y_pred_RF)\n",
    "\n",
    "# label the confusion matrix  \n",
    "conf_matrix = pd.DataFrame(data=cm,columns=['Predicted:0','Predicted:1'],index=['Actual:0','Actual:1'])\n",
    "\n",
    "# set sizeof the plot\n",
    "plt.figure(figsize = (8,5))\n",
    "\n",
    "# plot a heatmap\n",
    "# cmap: colour code used for plotting\n",
    "# annot: prints the correlation values in the chart\n",
    "# annot_kws: sets the font size of the annotation\n",
    "# cbar=False: Whether to draw a colorbar\n",
    "# fmt: string formatting code to use when adding annotations\n",
    "sns.heatmap(conf_matrix, annot=True, fmt='d', cmap=\"Pastel1_r\", cbar=True)\n",
    "plt.show()"
   ]
  },
  {
   "cell_type": "code",
   "execution_count": 63,
   "metadata": {
    "id": "UKj2VyPTvzF2"
   },
   "outputs": [],
   "source": [
    "# True Negatives are denoted by 'TN'\n",
    "# Actual 'O' values which are classified correctly\n",
    "TN = cm[0,0]\n",
    "\n",
    "# True Positives are denoted by 'TP'\n",
    "# Actual '1' values which are classified correctly\n",
    "TP = cm[1,1]\n",
    "\n",
    "# False Negatives are denoted by 'FN'\n",
    "# Actual '1' values which are classified wrongly as '0'\n",
    "FN = cm[1,0]\n",
    "\n",
    "# False Positives are denoted by 'FP'\n",
    "# Actual 'O' values which are classified wrongly as '1'\n",
    "FP = cm[0,1]               "
   ]
  },
  {
   "cell_type": "code",
   "execution_count": 64,
   "metadata": {
    "colab": {
     "base_uri": "https://localhost:8080/"
    },
    "id": "Nn-EH7Q9vzF2",
    "outputId": "90a5d5e6-cf09-45d2-e1a1-19f96019bb6e"
   },
   "outputs": [
    {
     "name": "stdout",
     "output_type": "stream",
     "text": [
      "              precision    recall  f1-score   support\n",
      "\n",
      "           0       1.00      1.00      1.00    314216\n",
      "           1       0.98      0.81      0.88       357\n",
      "\n",
      "    accuracy                           1.00    314573\n",
      "   macro avg       0.99      0.90      0.94    314573\n",
      "weighted avg       1.00      1.00      1.00    314573\n",
      "\n",
      "Accuracy of the model:  0.9997584026601138\n"
     ]
    }
   ],
   "source": [
    "# accuracy measures by classification_report()\n",
    "result = classification_report(Y_test,Y_pred_RF)\n",
    "\n",
    "# print the result\n",
    "print(result)\n",
    "\n",
    "acc_RF=accuracy_score(Y_test, Y_pred_RF)\n",
    "print(\"Accuracy of the model: \",acc_RF)"
   ]
  },
  {
   "cell_type": "code",
   "execution_count": 65,
   "metadata": {
    "colab": {
     "base_uri": "https://localhost:8080/",
     "height": 470
    },
    "id": "wIdYSSvbvzF2",
    "outputId": "f9ca4da9-b9db-4a9c-d828-807dd2ef507a"
   },
   "outputs": [
    {
     "data": {
      "image/png": "[encoded data removed]",
      "text/plain": [
       "<Figure size 576x360 with 1 Axes>"
      ]
     },
     "metadata": {
      "needs_background": "light"
     },
     "output_type": "display_data"
    }
   ],
   "source": [
    "# set the figure size\n",
    "plt.rcParams['figure.figsize']=(8,5)\n",
    "\n",
    "fpr, tpr, thresholds = roc_curve(Y_test, Y_pred_RF)\n",
    "\n",
    "# plot the ROC curve\n",
    "plt.plot(fpr,tpr)\n",
    "\n",
    "# set limits for x and y axes\n",
    "plt.xlim([0.0, 1.0])\n",
    "plt.ylim([0.0, 1.0])\n",
    "\n",
    "# plot the straight line showing worst prediction for the model\n",
    "plt.plot([0, 1], [0, 1],'r--')\n",
    "\n",
    "# add the AUC score\n",
    "plt.text(x = 0.05, y = 0.8, s =('AUC Score:', round(metrics.roc_auc_score(Y_test, Y_pred_RF),4)))\n",
    "\n",
    "# name the plot, and both axes\n",
    "plt.xlabel('False positive rate (1-Specificity)')\n",
    "plt.ylabel('True positive rate (Sensitivity)')\n",
    "\n",
    "# plot the grid\n",
    "plt.grid(True)"
   ]
  },
  {
   "cell_type": "code",
   "execution_count": 66,
   "metadata": {
    "colab": {
     "base_uri": "https://localhost:8080/",
     "height": 175
    },
    "id": "CAiVPTnovzF2",
    "outputId": "2671c607-1b3c-4998-94e3-cbaeaf8d683f"
   },
   "outputs": [
    {
     "data": {
      "text/html": [
       "<div>\n",
       "<style scoped>\n",
       "    .dataframe tbody tr th:only-of-type {\n",
       "        vertical-align: middle;\n",
       "    }\n",
       "\n",
       "    .dataframe tbody tr th {\n",
       "        vertical-align: top;\n",
       "    }\n",
       "\n",
       "    .dataframe thead th {\n",
       "        text-align: right;\n",
       "    }\n",
       "</style>\n",
       "<table border=\"1\" class=\"dataframe\">\n",
       "  <thead>\n",
       "    <tr style=\"text-align: right;\">\n",
       "      <th></th>\n",
       "      <th>Model</th>\n",
       "      <th>AUC Score</th>\n",
       "      <th>Precision Score</th>\n",
       "      <th>Recall Score</th>\n",
       "      <th>Accuracy Score</th>\n",
       "      <th>f1-score</th>\n",
       "    </tr>\n",
       "  </thead>\n",
       "  <tbody>\n",
       "    <tr>\n",
       "      <th>0</th>\n",
       "      <td>Logistic Regression</td>\n",
       "      <td>0.707272</td>\n",
       "      <td>0.954839</td>\n",
       "      <td>0.414566</td>\n",
       "      <td>0.999313</td>\n",
       "      <td>0.578125</td>\n",
       "    </tr>\n",
       "    <tr>\n",
       "      <th>1</th>\n",
       "      <td>AdaBoost</td>\n",
       "      <td>0.728263</td>\n",
       "      <td>0.900552</td>\n",
       "      <td>0.456583</td>\n",
       "      <td>0.999326</td>\n",
       "      <td>0.605948</td>\n",
       "    </tr>\n",
       "    <tr>\n",
       "      <th>2</th>\n",
       "      <td>Decision Tree</td>\n",
       "      <td>0.901862</td>\n",
       "      <td>0.822350</td>\n",
       "      <td>0.803922</td>\n",
       "      <td>0.999580</td>\n",
       "      <td>0.813031</td>\n",
       "    </tr>\n",
       "    <tr>\n",
       "      <th>3</th>\n",
       "      <td>Random Forest</td>\n",
       "      <td>0.903350</td>\n",
       "      <td>0.976271</td>\n",
       "      <td>0.806723</td>\n",
       "      <td>0.999758</td>\n",
       "      <td>0.883436</td>\n",
       "    </tr>\n",
       "  </tbody>\n",
       "</table>\n",
       "</div>"
      ],
      "text/plain": [
       "                 Model  AUC Score  Precision Score  Recall Score  \\\n",
       "0  Logistic Regression   0.707272         0.954839      0.414566   \n",
       "1             AdaBoost   0.728263         0.900552      0.456583   \n",
       "2        Decision Tree   0.901862         0.822350      0.803922   \n",
       "3        Random Forest   0.903350         0.976271      0.806723   \n",
       "\n",
       "   Accuracy Score  f1-score  \n",
       "0        0.999313  0.578125  \n",
       "1        0.999326  0.605948  \n",
       "2        0.999580  0.813031  \n",
       "3        0.999758  0.883436  "
      ]
     },
     "execution_count": 66,
     "metadata": {},
     "output_type": "execute_result"
    }
   ],
   "source": [
    "# 4.Tabulate the results\n",
    "\n",
    "# create the result table for all accuracy scores\n",
    "# Accuracy measures considered for model comparision are 'Model', 'AUC Score', 'Precision Score', 'Recall Score','Accuracy Score','Kappa Score', 'f1 - score'\n",
    "\n",
    "# create a list of column names\n",
    "\n",
    "\n",
    "# compiling the required information\n",
    "DT_metrices = pd.Series({'Model': \"Random Forest\",\n",
    "                     'AUC Score' : metrics.roc_auc_score(Y_test, Y_pred_RF),\n",
    "                      'Precision Score': metrics.precision_score(Y_test, Y_pred_RF),\n",
    "                      'Recall Score': metrics.recall_score(Y_test, Y_pred_RF),\n",
    "                      'Accuracy Score': metrics.accuracy_score(Y_test, Y_pred_RF),\n",
    "\n",
    "                        'f1-score':metrics.f1_score(Y_test, Y_pred_RF)})\n",
    "\n",
    "\n",
    "\n",
    "# appending our result table\n",
    "result_tabulation = result_tabulation.append(DT_metrices , ignore_index = True)\n",
    "\n",
    "# view the result table\n",
    "result_tabulation"
   ]
  },
  {
   "cell_type": "code",
   "execution_count": null,
   "metadata": {
    "id": "DvqRTcHGvzF2"
   },
   "outputs": [],
   "source": []
  },
  {
   "cell_type": "code",
   "execution_count": null,
   "metadata": {
    "id": "08imEEnbvzF2"
   },
   "outputs": [],
   "source": []
  },
  {
   "cell_type": "markdown",
   "metadata": {
    "id": "ueGPzgpgvzF3"
   },
   "source": [
    "### 10. Model Comparision"
   ]
  },
  {
   "cell_type": "code",
   "execution_count": 67,
   "metadata": {
    "colab": {
     "base_uri": "https://localhost:8080/",
     "height": 175
    },
    "id": "_vx1fm2GvzF3",
    "outputId": "8ec82132-87c9-4123-b180-6d2f5cf256a4"
   },
   "outputs": [
    {
     "data": {
      "text/html": [
       "<div>\n",
       "<style scoped>\n",
       "    .dataframe tbody tr th:only-of-type {\n",
       "        vertical-align: middle;\n",
       "    }\n",
       "\n",
       "    .dataframe tbody tr th {\n",
       "        vertical-align: top;\n",
       "    }\n",
       "\n",
       "    .dataframe thead th {\n",
       "        text-align: right;\n",
       "    }\n",
       "</style>\n",
       "<table border=\"1\" class=\"dataframe\">\n",
       "  <thead>\n",
       "    <tr style=\"text-align: right;\">\n",
       "      <th></th>\n",
       "      <th>Model</th>\n",
       "      <th>AUC Score</th>\n",
       "      <th>Precision Score</th>\n",
       "      <th>Recall Score</th>\n",
       "      <th>Accuracy Score</th>\n",
       "      <th>f1-score</th>\n",
       "    </tr>\n",
       "  </thead>\n",
       "  <tbody>\n",
       "    <tr>\n",
       "      <th>0</th>\n",
       "      <td>Logistic Regression</td>\n",
       "      <td>0.707272</td>\n",
       "      <td>0.954839</td>\n",
       "      <td>0.414566</td>\n",
       "      <td>0.999313</td>\n",
       "      <td>0.578125</td>\n",
       "    </tr>\n",
       "    <tr>\n",
       "      <th>1</th>\n",
       "      <td>AdaBoost</td>\n",
       "      <td>0.728263</td>\n",
       "      <td>0.900552</td>\n",
       "      <td>0.456583</td>\n",
       "      <td>0.999326</td>\n",
       "      <td>0.605948</td>\n",
       "    </tr>\n",
       "    <tr>\n",
       "      <th>2</th>\n",
       "      <td>Decision Tree</td>\n",
       "      <td>0.901862</td>\n",
       "      <td>0.822350</td>\n",
       "      <td>0.803922</td>\n",
       "      <td>0.999580</td>\n",
       "      <td>0.813031</td>\n",
       "    </tr>\n",
       "    <tr>\n",
       "      <th>3</th>\n",
       "      <td>Random Forest</td>\n",
       "      <td>0.903350</td>\n",
       "      <td>0.976271</td>\n",
       "      <td>0.806723</td>\n",
       "      <td>0.999758</td>\n",
       "      <td>0.883436</td>\n",
       "    </tr>\n",
       "  </tbody>\n",
       "</table>\n",
       "</div>"
      ],
      "text/plain": [
       "                 Model  AUC Score  Precision Score  Recall Score  \\\n",
       "0  Logistic Regression   0.707272         0.954839      0.414566   \n",
       "1             AdaBoost   0.728263         0.900552      0.456583   \n",
       "2        Decision Tree   0.901862         0.822350      0.803922   \n",
       "3        Random Forest   0.903350         0.976271      0.806723   \n",
       "\n",
       "   Accuracy Score  f1-score  \n",
       "0        0.999313  0.578125  \n",
       "1        0.999326  0.605948  \n",
       "2        0.999580  0.813031  \n",
       "3        0.999758  0.883436  "
      ]
     },
     "execution_count": 67,
     "metadata": {},
     "output_type": "execute_result"
    }
   ],
   "source": [
    "result_tabulation"
   ]
  },
  {
   "cell_type": "code",
   "execution_count": 68,
   "metadata": {
    "colab": {
     "base_uri": "https://localhost:8080/",
     "height": 606
    },
    "id": "rV5_akoNvzF3",
    "outputId": "558eeb36-8e8d-42d1-941b-1919fbc5c063"
   },
   "outputs": [
    {
     "data": {
      "image/png": "[encoded data removed]",
      "text/plain": [
       "<Figure size 576x360 with 1 Axes>"
      ]
     },
     "metadata": {
      "needs_background": "light"
     },
     "output_type": "display_data"
    }
   ],
   "source": [
    "accuracy = {'Model': [ 'Logistic Regression', 'AdaBoost\t','Decision Tree','Random Forest'],\n",
    "        'Accuracy': [acc_logreg*100, acc_ada*100, acc_DT*100,acc_RF*100]}\n",
    "df = pd.DataFrame(accuracy)\n",
    "ax = df.plot(kind='bar', x='Model', y='Accuracy', color='blue', legend=False)\n",
    "ax.set_ylim([0, 100])\n",
    "ax.set_title('Accuracy Comparison of The Models')\n",
    "ax.set_xlabel('Models')\n",
    "ax.set_ylabel('Accuracy(%)')\n",
    "plt.show()"
   ]
  },
  {
   "cell_type": "code",
   "execution_count": 69,
   "metadata": {
    "colab": {
     "base_uri": "https://localhost:8080/"
    },
    "id": "KcWS9zp3VJDc",
    "outputId": "2ff62c29-8d68-4d39-8330-f6d45bf182e4"
   },
   "outputs": [
    {
     "name": "stdout",
     "output_type": "stream",
     "text": [
      "[1]\n"
     ]
    }
   ],
   "source": [
    "#Let's predict for these set of values\n",
    "\n",
    "# Features = [step,type, amount, sender_oldbalanceOrg, sender_newbalanceOrig,recipient_OldBal,recipient_NewBal]\n",
    "features = np.array([[0,4,9000.60, 9000.60,1967.85, 0.0,0.0]])\n",
    "print(model_RandomForest.predict(features))"
   ]
  },
  {
   "cell_type": "code",
   "execution_count": 84,
   "metadata": {
    "colab": {
     "base_uri": "https://localhost:8080/"
    },
    "id": "3qEoHrxjVILE",
    "outputId": "f0e3d5fe-16bf-48b5-a014-7fa762ff1471"
   },
   "outputs": [
    {
     "name": "stdout",
     "output_type": "stream",
     "text": [
      "[1]\n",
      "[0]\n"
     ]
    }
   ],
   "source": [
    "features1 = np.array([[0,4,9000.60, 9000.60,1967.85, 1956.0,0.0]])\n",
    "print(model_RandomForest.predict(features1))\n",
    "\n",
    "\n",
    "features2 = np.array([[1,1, 10000, 0, 100,0,0]])\n",
    "print(model_RandomForest.predict(features2))\n",
    "\n",
    "# \"\"\"\n",
    "# [1]=Fraud\n",
    "# [0]=No fraud\n",
    "\n",
    "# \"\"\""
   ]
  },
  {
   "cell_type": "markdown",
   "metadata": {
    "id": "PaZEcheNZFm0"
   },
   "source": [
    "# Creat Final Prediction In Dataframe"
   ]
  },
  {
   "cell_type": "markdown",
   "metadata": {
    "id": "fSUNpyAlZGW4"
   },
   "source": [
    "test_data=data.copy()\n",
    "test_data[\"Y_predictions\"]=Y_pred_RF\n",
    "test_data.head()"
   ]
  },
  {
   "cell_type": "code",
   "execution_count": null,
   "metadata": {},
   "outputs": [],
   "source": []
  },
  {
   "cell_type": "markdown",
   "metadata": {},
   "source": [
    "# <a> CODE FOR DEPLOYMENT: </a>"
   ]
  },
  {
   "cell_type": "markdown",
   "metadata": {},
   "source": [
    "## 1. Save the scaler object"
   ]
  },
  {
   "cell_type": "code",
   "execution_count": 85,
   "metadata": {},
   "outputs": [],
   "source": [
    "import joblib"
   ]
  },
  {
   "cell_type": "code",
   "execution_count": 86,
   "metadata": {},
   "outputs": [
    {
     "data": {
      "text/plain": [
       "['RF_scaler.pkl']"
      ]
     },
     "execution_count": 86,
     "metadata": {},
     "output_type": "execute_result"
    }
   ],
   "source": [
    "# dump the sclaer in pwd\n",
    "\n",
    "joblib.dump(scaler,'RF_scaler.pkl')"
   ]
  },
  {
   "cell_type": "code",
   "execution_count": 87,
   "metadata": {},
   "outputs": [],
   "source": [
    "# load the sclaer from pwd\n",
    "\n",
    "person_scaler = joblib.load('RF_scaler.pkl')\n"
   ]
  },
  {
   "cell_type": "markdown",
   "metadata": {},
   "source": [
    "eg."
   ]
  },
  {
   "cell_type": "code",
   "execution_count": null,
   "metadata": {},
   "outputs": [],
   "source": []
  },
  {
   "cell_type": "markdown",
   "metadata": {},
   "source": [
    "## 2. save the model"
   ]
  },
  {
   "cell_type": "code",
   "execution_count": 88,
   "metadata": {},
   "outputs": [],
   "source": [
    "import pickle"
   ]
  },
  {
   "cell_type": "code",
   "execution_count": 89,
   "metadata": {},
   "outputs": [],
   "source": [
    "# Save to file in the current working directory\n",
    "\n",
    "pkl_filename = \"RF_pickle_model.pkl\"\n",
    "with open(pkl_filename, 'wb') as file1:\n",
    "    pickle.dump(model_RandomForest, file1)"
   ]
  },
  {
   "cell_type": "code",
   "execution_count": 90,
   "metadata": {},
   "outputs": [],
   "source": [
    "# Load from file\n",
    "pkl_filename = \"RF_pickle_model.pkl\"\n",
    "with open(pkl_filename, 'rb') as file2:\n",
    "    RF_pickle_model = pickle.load(file2)"
   ]
  },
  {
   "cell_type": "code",
   "execution_count": null,
   "metadata": {},
   "outputs": [],
   "source": [
    "#Model save to model folder "
   ]
  },
  {
   "cell_type": "code",
   "execution_count": null,
   "metadata": {},
   "outputs": [],
   "source": []
  },
  {
   "cell_type": "code",
   "execution_count": null,
   "metadata": {},
   "outputs": [],
   "source": []
  },
  {
   "cell_type": "markdown",
   "metadata": {
    "id": "azkRyCbbDfZO"
   },
   "source": [
    "**Cross validation**"
   ]
  },
  {
   "cell_type": "markdown",
   "metadata": {
    "colab": {
     "base_uri": "https://localhost:8080/"
    },
    "id": "Hth98IYxvzF5",
    "outputId": "9a2250b0-657d-449d-eb8b-815b1c8a3a1d"
   },
   "source": [
    "#Using cross validation\n",
    "\n",
    "classifier=LogisticRegression()\n",
    "\n",
    "#performing kfold_cross_validation\n",
    "from sklearn.model_selection import KFold\n",
    "kfold_cv=KFold(n_splits=10,random_state=10,shuffle=True)\n",
    "#print(kfold_cv)\n",
    "\n",
    "from sklearn.model_selection import cross_val_score\n",
    "#running the model using scoring metric as accuracy\n",
    "kfold_cv_result=cross_val_score(estimator=classifier,X=X_train,\n",
    "                                                 y=Y_train, cv=kfold_cv)\n",
    "print(kfold_cv_result)\n",
    "#finding the mean\n",
    "print(kfold_cv_result.mean())"
   ]
  },
  {
   "cell_type": "markdown",
   "metadata": {
    "id": "Xd6MfqqaESBl"
   },
   "source": [
    "#model tuning\n",
    "\n",
    "for train_value, test_value in kfold_cv.split(X_train):\n",
    "    classifier.fit(X_train[train_value], Y_train[train_value]).predict(X_train[test_value])\n",
    "\n",
    "    \n",
    "Y_pred=classifier.predict(X_test)\n",
    "#print(list(zip(Y_test,Y_pred)))\n",
    "\n",
    "#this is accumulating model will keep on updating.\n",
    "# classifier.fit Function will work on 9 folds and the predict will work on the remaining 1 Fold\n",
    "\n",
    "#Only be impliment if there is drastic Differenc eint he Accurracy Score of Base Model or K folds"
   ]
  },
  {
   "cell_type": "markdown",
   "metadata": {
    "colab": {
     "base_uri": "https://localhost:8080/"
    },
    "id": "ME4OHgyYEUsP",
    "outputId": "dbeb56a5-c253-4a0a-adaa-020624de69ec"
   },
   "source": [
    "from sklearn.feature_selection import RFE\n",
    "rfe = RFE(classifier, n_features_to_select=9)\n",
    "model_rfe = rfe.fit(X_train, Y_train)\n",
    "print(\"Num Features: \",model_rfe.n_features_)\n",
    "print(\"Selected Features: \") \n",
    "# print(list(zip(colname, model_rfe.support_)))\n",
    "print(list(zip(model_rfe.support_)))\n",
    "\n",
    "print(\"Feature Ranking: \", model_rfe.ranking_) "
   ]
  },
  {
   "cell_type": "markdown",
   "metadata": {
    "id": "qct69Hi-EZRx"
   },
   "source": [
    "Y_pred=model_rfe.predict(X_test)"
   ]
  },
  {
   "cell_type": "markdown",
   "metadata": {
    "colab": {
     "base_uri": "https://localhost:8080/"
    },
    "id": "jWNB_MgKEclv",
    "outputId": "d4eacb4d-4234-4af7-ac04-8625c03b9b95"
   },
   "source": [
    "from sklearn.metrics import confusion_matrix, accuracy_score, classification_report\n",
    "\n",
    "cfm=confusion_matrix(Y_test,Y_pred)\n",
    "print(cfm)\n",
    "\n",
    "print(\"Classification report: \")\n",
    "\n",
    "print(classification_report(Y_test,Y_pred))\n",
    "\n",
    "acc=accuracy_score(Y_test, Y_pred)\n",
    "print(\"Accuracy of the model: \",acc)"
   ]
  },
  {
   "cell_type": "code",
   "execution_count": null,
   "metadata": {
    "id": "Uen_mNpOIOuT"
   },
   "outputs": [],
   "source": []
  }
 ],
 "metadata": {
  "colab": {
   "provenance": []
  },
  "kernelspec": {
   "display_name": "Python 3",
   "language": "python",
   "name": "python3"
  },
  "language_info": {
   "codemirror_mode": {
    "name": "ipython",
    "version": 3
   },
   "file_extension": ".py",
   "mimetype": "text/x-python",
   "name": "python",
   "nbconvert_exporter": "python",
   "pygments_lexer": "ipython3",
   "version": "3.7.6"
  }
 },
 "nbformat": 4,
 "nbformat_minor": 1
}
